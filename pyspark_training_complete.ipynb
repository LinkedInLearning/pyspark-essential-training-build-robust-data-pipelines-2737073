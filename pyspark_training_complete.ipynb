{
 "cells": [
  {
   "cell_type": "markdown",
   "metadata": {
    "id": "XFEfG30uSiLG"
   },
   "source": [
    "# Initial setup"
   ]
  },
  {
   "cell_type": "code",
   "execution_count": 1,
   "metadata": {
    "colab": {
     "base_uri": "https://localhost:8080/"
    },
    "id": "tZXttlglPuW7",
    "outputId": "204c727a-5005-4292-be45-9bf43f935429"
   },
   "outputs": [
    {
     "name": "stdout",
     "output_type": "stream",
     "text": [
      "Requirement already satisfied: pyspark in /Users/sam/miniconda3/envs/data/lib/python3.12/site-packages (3.5.5)\n",
      "Requirement already satisfied: py4j==0.10.9.7 in /Users/sam/miniconda3/envs/data/lib/python3.12/site-packages (from pyspark) (0.10.9.7)\n"
     ]
    }
   ],
   "source": [
    "!pip install pyspark"
   ]
  },
  {
   "cell_type": "code",
   "execution_count": 2,
   "metadata": {
    "colab": {
     "base_uri": "https://localhost:8080/",
     "height": 35
    },
    "id": "czH_i4ALP85W",
    "outputId": "d7b70ce6-e7c6-4fcf-9263-ce7dab56465b"
   },
   "outputs": [
    {
     "data": {
      "text/plain": [
       "'3.5.5'"
      ]
     },
     "execution_count": 2,
     "metadata": {},
     "output_type": "execute_result"
    }
   ],
   "source": [
    "import pyspark\n",
    "pyspark.__version__"
   ]
  },
  {
   "cell_type": "markdown",
   "metadata": {
    "id": "Xl_xUfQhSmC2"
   },
   "source": [
    "# Mounting Drive and importing files"
   ]
  },
  {
   "cell_type": "code",
   "execution_count": 5,
   "metadata": {
    "colab": {
     "base_uri": "https://localhost:8080/"
    },
    "id": "08sfTCMtP-W5",
    "outputId": "7af4c592-5ebc-4251-d949-02150b3867d3"
   },
   "outputs": [
    {
     "name": "stdout",
     "output_type": "stream",
     "text": [
      "Mounted at /content/drive/\n"
     ]
    }
   ],
   "source": [
    "# # Mount Drive\n",
    "# from google.colab import drive\n",
    "# drive.mount('/content/drive/')"
   ]
  },
  {
   "cell_type": "code",
   "execution_count": 6,
   "metadata": {
    "colab": {
     "base_uri": "https://localhost:8080/"
    },
    "id": "q6rrTpoDQYYd",
    "outputId": "54867bb0-1dce-4a82-e2b7-967f6aa6d1d7"
   },
   "outputs": [
    {
     "data": {
      "text/plain": [
       "True"
      ]
     },
     "execution_count": 6,
     "metadata": {},
     "output_type": "execute_result"
    }
   ],
   "source": [
    "# # Check if files exist\n",
    "# import os\n",
    "# os.path.isfile('/content/drive/MyDrive/pyspark_training/yellow_tripdata_2025-01.parquet')"
   ]
  },
  {
   "cell_type": "code",
   "execution_count": 4,
   "metadata": {},
   "outputs": [
    {
     "name": "stdout",
     "output_type": "stream",
     "text": [
      "env: SPARK_LOCAL_IP=127.0.0.1\n"
     ]
    }
   ],
   "source": [
    "%env SPARK_LOCAL_IP=127.0.0.1"
   ]
  },
  {
   "cell_type": "markdown",
   "metadata": {
    "id": "rUnMlWJ8St5z"
   },
   "source": [
    "# Initiating SparkSession"
   ]
  },
  {
   "cell_type": "code",
   "execution_count": 5,
   "metadata": {
    "id": "USh3ueoYQt8c"
   },
   "outputs": [
    {
     "data": {
      "text/html": [
       "\n",
       "            <div>\n",
       "                <p><b>SparkSession - in-memory</b></p>\n",
       "                \n",
       "        <div>\n",
       "            <p><b>SparkContext</b></p>\n",
       "\n",
       "            <p><a href=\"http://172.19.0.234:4040\">Spark UI</a></p>\n",
       "\n",
       "            <dl>\n",
       "              <dt>Version</dt>\n",
       "                <dd><code>v3.5.5</code></dd>\n",
       "              <dt>Master</dt>\n",
       "                <dd><code>local[*]</code></dd>\n",
       "              <dt>AppName</dt>\n",
       "                <dd><code>pyspark-shell</code></dd>\n",
       "            </dl>\n",
       "        </div>\n",
       "        \n",
       "            </div>\n",
       "        "
      ],
      "text/plain": [
       "<pyspark.sql.session.SparkSession at 0x1075935f0>"
      ]
     },
     "execution_count": 5,
     "metadata": {},
     "output_type": "execute_result"
    }
   ],
   "source": [
    "# Initiate SparkSession\n",
    "from pyspark.sql import SparkSession\n",
    "spark = SparkSession.builder.getOrCreate()\n",
    "spark"
   ]
  },
  {
   "cell_type": "markdown",
   "metadata": {
    "id": "cmfBDxtgSzLR"
   },
   "source": [
    "# Loading & inspecting data"
   ]
  },
  {
   "cell_type": "code",
   "execution_count": 6,
   "metadata": {
    "id": "v6x5VSeYQzd-"
   },
   "outputs": [
    {
     "name": "stderr",
     "output_type": "stream",
     "text": [
      "                                                                                \r"
     ]
    }
   ],
   "source": [
    "# Read in data file\n",
    "df = spark.read.parquet('./yellow_tripdata_2025-01.parquet', header=True)"
   ]
  },
  {
   "cell_type": "code",
   "execution_count": 7,
   "metadata": {
    "colab": {
     "base_uri": "https://localhost:8080/"
    },
    "id": "zWhxpRsfRGm7",
    "outputId": "31c7a35b-5b1f-4794-847f-94e1ef7a6acc"
   },
   "outputs": [
    {
     "name": "stderr",
     "output_type": "stream",
     "text": [
      "                                                                                \r"
     ]
    },
    {
     "name": "stdout",
     "output_type": "stream",
     "text": [
      "+--------+--------------------+---------------------+---------------+-------------+----------+------------------+------------+------------+------------+-----------+-----+-------+----------+------------+---------------------+------------+--------------------+-----------+------------------+\n",
      "|VendorID|tpep_pickup_datetime|tpep_dropoff_datetime|passenger_count|trip_distance|RatecodeID|store_and_fwd_flag|PULocationID|DOLocationID|payment_type|fare_amount|extra|mta_tax|tip_amount|tolls_amount|improvement_surcharge|total_amount|congestion_surcharge|Airport_fee|cbd_congestion_fee|\n",
      "+--------+--------------------+---------------------+---------------+-------------+----------+------------------+------------+------------+------------+-----------+-----+-------+----------+------------+---------------------+------------+--------------------+-----------+------------------+\n",
      "|       1| 2025-01-01 00:18:38|  2025-01-01 00:26:59|              1|          1.6|         1|                 N|         229|         237|           1|       10.0|  3.5|    0.5|       3.0|         0.0|                  1.0|        18.0|                 2.5|        0.0|               0.0|\n",
      "|       1| 2025-01-01 00:32:40|  2025-01-01 00:35:13|              1|          0.5|         1|                 N|         236|         237|           1|        5.1|  3.5|    0.5|      2.02|         0.0|                  1.0|       12.12|                 2.5|        0.0|               0.0|\n",
      "|       1| 2025-01-01 00:44:04|  2025-01-01 00:46:01|              1|          0.6|         1|                 N|         141|         141|           1|        5.1|  3.5|    0.5|       2.0|         0.0|                  1.0|        12.1|                 2.5|        0.0|               0.0|\n",
      "|       2| 2025-01-01 00:14:27|  2025-01-01 00:20:01|              3|         0.52|         1|                 N|         244|         244|           2|        7.2|  1.0|    0.5|       0.0|         0.0|                  1.0|         9.7|                 0.0|        0.0|               0.0|\n",
      "|       2| 2025-01-01 00:21:34|  2025-01-01 00:25:06|              3|         0.66|         1|                 N|         244|         116|           2|        5.8|  1.0|    0.5|       0.0|         0.0|                  1.0|         8.3|                 0.0|        0.0|               0.0|\n",
      "+--------+--------------------+---------------------+---------------+-------------+----------+------------------+------------+------------+------------+-----------+-----+-------+----------+------------+---------------------+------------+--------------------+-----------+------------------+\n",
      "only showing top 5 rows\n",
      "\n"
     ]
    }
   ],
   "source": [
    "df.show(5)"
   ]
  },
  {
   "cell_type": "code",
   "execution_count": 8,
   "metadata": {
    "colab": {
     "base_uri": "https://localhost:8080/"
    },
    "id": "4yj0IYrqRgIE",
    "outputId": "de161f28-205c-4d43-fd83-ef2124cada2d"
   },
   "outputs": [
    {
     "data": {
      "text/plain": [
       "3475226"
      ]
     },
     "execution_count": 8,
     "metadata": {},
     "output_type": "execute_result"
    }
   ],
   "source": [
    "# Check rowcount in dataframe\n",
    "df.count()"
   ]
  },
  {
   "cell_type": "code",
   "execution_count": 9,
   "metadata": {
    "colab": {
     "base_uri": "https://localhost:8080/"
    },
    "id": "bs5ynnJ6Rk2w",
    "outputId": "bf85b37d-1916-4797-e25e-5b9208d622d9"
   },
   "outputs": [
    {
     "data": {
      "text/plain": [
       "['VendorID',\n",
       " 'tpep_pickup_datetime',\n",
       " 'tpep_dropoff_datetime',\n",
       " 'passenger_count',\n",
       " 'trip_distance',\n",
       " 'RatecodeID',\n",
       " 'store_and_fwd_flag',\n",
       " 'PULocationID',\n",
       " 'DOLocationID',\n",
       " 'payment_type',\n",
       " 'fare_amount',\n",
       " 'extra',\n",
       " 'mta_tax',\n",
       " 'tip_amount',\n",
       " 'tolls_amount',\n",
       " 'improvement_surcharge',\n",
       " 'total_amount',\n",
       " 'congestion_surcharge',\n",
       " 'Airport_fee',\n",
       " 'cbd_congestion_fee']"
      ]
     },
     "execution_count": 9,
     "metadata": {},
     "output_type": "execute_result"
    }
   ],
   "source": [
    "# Show colum names\n",
    "df.schema.names"
   ]
  },
  {
   "cell_type": "code",
   "execution_count": 13,
   "metadata": {
    "colab": {
     "base_uri": "https://localhost:8080/"
    },
    "id": "GwO6ZveoRy9x",
    "outputId": "bae5a16f-74a5-4951-96ce-4ec520f907b0"
   },
   "outputs": [
    {
     "name": "stdout",
     "output_type": "stream",
     "text": [
      "root\n",
      " |-- VendorID: integer (nullable = true)\n",
      " |-- tpep_pickup_datetime: timestamp_ntz (nullable = true)\n",
      " |-- tpep_dropoff_datetime: timestamp_ntz (nullable = true)\n",
      " |-- passenger_count: long (nullable = true)\n",
      " |-- trip_distance: double (nullable = true)\n",
      " |-- RatecodeID: long (nullable = true)\n",
      " |-- store_and_fwd_flag: string (nullable = true)\n",
      " |-- PULocationID: integer (nullable = true)\n",
      " |-- DOLocationID: integer (nullable = true)\n",
      " |-- payment_type: long (nullable = true)\n",
      " |-- fare_amount: double (nullable = true)\n",
      " |-- extra: double (nullable = true)\n",
      " |-- mta_tax: double (nullable = true)\n",
      " |-- tip_amount: double (nullable = true)\n",
      " |-- tolls_amount: double (nullable = true)\n",
      " |-- improvement_surcharge: double (nullable = true)\n",
      " |-- total_amount: double (nullable = true)\n",
      " |-- congestion_surcharge: double (nullable = true)\n",
      " |-- Airport_fee: double (nullable = true)\n",
      " |-- cbd_congestion_fee: double (nullable = true)\n",
      "\n"
     ]
    }
   ],
   "source": [
    "# Show column names + datatypes\n",
    "df.printSchema()"
   ]
  },
  {
   "cell_type": "code",
   "execution_count": 14,
   "metadata": {
    "colab": {
     "base_uri": "https://localhost:8080/"
    },
    "id": "QlzQTwdJR9KO",
    "outputId": "57e6bf6d-7391-43a7-9a1d-6ee3ba3da585"
   },
   "outputs": [
    {
     "name": "stdout",
     "output_type": "stream",
     "text": [
      "+-------+------------------+------------------+\n",
      "|summary|   passenger_count|      total_amount|\n",
      "+-------+------------------+------------------+\n",
      "|  count|           2935077|           3475226|\n",
      "|   mean|1.2978589658806226|25.611291697295062|\n",
      "| stddev| 0.750750275480471| 463.6584784502283|\n",
      "|    min|                 0|            -901.0|\n",
      "|    max|                 9|         863380.37|\n",
      "+-------+------------------+------------------+\n",
      "\n"
     ]
    }
   ],
   "source": [
    "# Descriptive stats for a subset of columns\n",
    "df.describe(['passenger_count', 'total_amount']).show()"
   ]
  },
  {
   "cell_type": "markdown",
   "metadata": {
    "id": "K42lLhE4Sb1x"
   },
   "source": [
    "# Selecting columns"
   ]
  },
  {
   "cell_type": "code",
   "execution_count": 15,
   "metadata": {
    "colab": {
     "base_uri": "https://localhost:8080/"
    },
    "id": "Q3l-pBT8SHLF",
    "outputId": "60b5a0fd-9d1e-4998-9a88-5d097daff472"
   },
   "outputs": [
    {
     "data": {
      "text/plain": [
       "Column<'passenger_count'>"
      ]
     },
     "execution_count": 15,
     "metadata": {},
     "output_type": "execute_result"
    }
   ],
   "source": [
    "df.passenger_count"
   ]
  },
  {
   "cell_type": "code",
   "execution_count": 16,
   "metadata": {
    "colab": {
     "base_uri": "https://localhost:8080/"
    },
    "id": "SsEpsK0iSJpc",
    "outputId": "98057afa-c27a-4d2c-80c0-b1e555f7a180"
   },
   "outputs": [
    {
     "data": {
      "text/plain": [
       "Column<'passenger_count'>"
      ]
     },
     "execution_count": 16,
     "metadata": {},
     "output_type": "execute_result"
    }
   ],
   "source": [
    "df['passenger_count']"
   ]
  },
  {
   "cell_type": "code",
   "execution_count": 17,
   "metadata": {
    "colab": {
     "base_uri": "https://localhost:8080/"
    },
    "id": "yk4MsmQCSLd5",
    "outputId": "596ca000-451e-4682-8c75-0ad2fc161e84"
   },
   "outputs": [
    {
     "data": {
      "text/plain": [
       "DataFrame[passenger_count: bigint]"
      ]
     },
     "execution_count": 17,
     "metadata": {},
     "output_type": "execute_result"
    }
   ],
   "source": [
    "df.select('passenger_count')"
   ]
  },
  {
   "cell_type": "code",
   "execution_count": 18,
   "metadata": {
    "colab": {
     "base_uri": "https://localhost:8080/"
    },
    "id": "4z3N-b7LSNQA",
    "outputId": "f8332b83-1219-41ea-f1ee-701b60f2a211"
   },
   "outputs": [
    {
     "name": "stdout",
     "output_type": "stream",
     "text": [
      "+---------------+\n",
      "|passenger_count|\n",
      "+---------------+\n",
      "|              1|\n",
      "|              1|\n",
      "|              1|\n",
      "|              3|\n",
      "|              3|\n",
      "|              2|\n",
      "|              0|\n",
      "|              0|\n",
      "|              0|\n",
      "|              1|\n",
      "|              1|\n",
      "|              1|\n",
      "|              3|\n",
      "|              1|\n",
      "|              1|\n",
      "|              3|\n",
      "|              1|\n",
      "|              1|\n",
      "|              1|\n",
      "|              2|\n",
      "+---------------+\n",
      "only showing top 20 rows\n",
      "\n"
     ]
    }
   ],
   "source": [
    "df.select('passenger_count').show()"
   ]
  },
  {
   "cell_type": "code",
   "execution_count": 19,
   "metadata": {
    "colab": {
     "base_uri": "https://localhost:8080/"
    },
    "id": "jJZxkfmXSSdy",
    "outputId": "1753af4d-b921-43d4-d7aa-2393d0666564"
   },
   "outputs": [
    {
     "name": "stdout",
     "output_type": "stream",
     "text": [
      "+---------------+\n",
      "|passenger_count|\n",
      "+---------------+\n",
      "|              1|\n",
      "|              1|\n",
      "|              1|\n",
      "|              3|\n",
      "|              3|\n",
      "|              2|\n",
      "|              0|\n",
      "|              0|\n",
      "|              0|\n",
      "|              1|\n",
      "|              1|\n",
      "|              1|\n",
      "|              3|\n",
      "|              1|\n",
      "|              1|\n",
      "|              3|\n",
      "|              1|\n",
      "|              1|\n",
      "|              1|\n",
      "|              2|\n",
      "+---------------+\n",
      "only showing top 20 rows\n",
      "\n"
     ]
    }
   ],
   "source": [
    "from pyspark.sql.functions import col\n",
    "df.select(col('passenger_count')).show()"
   ]
  },
  {
   "cell_type": "code",
   "execution_count": 20,
   "metadata": {
    "colab": {
     "base_uri": "https://localhost:8080/"
    },
    "id": "qft90tWeS5c4",
    "outputId": "b54babfc-d044-466b-ea01-0f7bbfea8ed2"
   },
   "outputs": [
    {
     "name": "stdout",
     "output_type": "stream",
     "text": [
      "+---------------+------------+\n",
      "|passenger_count|total_amount|\n",
      "+---------------+------------+\n",
      "|              1|        18.0|\n",
      "|              1|       12.12|\n",
      "|              1|        12.1|\n",
      "|              3|         9.7|\n",
      "|              3|         8.3|\n",
      "|              2|        24.1|\n",
      "|              0|       11.75|\n",
      "|              0|        19.1|\n",
      "|              0|        27.1|\n",
      "|              1|        16.4|\n",
      "|              1|        16.4|\n",
      "|              1|       12.96|\n",
      "|              3|        19.2|\n",
      "|              1|        12.9|\n",
      "|              1|        38.9|\n",
      "|              3|        22.7|\n",
      "|              1|       25.55|\n",
      "|              1|       -8.54|\n",
      "|              1|        12.2|\n",
      "|              2|        20.6|\n",
      "+---------------+------------+\n",
      "only showing top 20 rows\n",
      "\n"
     ]
    }
   ],
   "source": [
    "df.select('passenger_count',  'total_amount').show()"
   ]
  },
  {
   "cell_type": "markdown",
   "metadata": {
    "id": "4TC6rbVXS9ze"
   },
   "source": [
    "# Sorting dataframes"
   ]
  },
  {
   "cell_type": "code",
   "execution_count": 21,
   "metadata": {
    "colab": {
     "base_uri": "https://localhost:8080/"
    },
    "id": "WXrY2rJHS8HJ",
    "outputId": "e1f33a3e-5926-4f00-f17d-9adff60bcd7f"
   },
   "outputs": [
    {
     "name": "stdout",
     "output_type": "stream",
     "text": [
      "+--------+--------------------+---------------------+---------------+-------------+----------+------------------+------------+------------+------------+-----------+-----+-------+----------+------------+---------------------+------------+--------------------+-----------+------------------+\n",
      "|VendorID|tpep_pickup_datetime|tpep_dropoff_datetime|passenger_count|trip_distance|RatecodeID|store_and_fwd_flag|PULocationID|DOLocationID|payment_type|fare_amount|extra|mta_tax|tip_amount|tolls_amount|improvement_surcharge|total_amount|congestion_surcharge|Airport_fee|cbd_congestion_fee|\n",
      "+--------+--------------------+---------------------+---------------+-------------+----------+------------------+------------+------------+------------+-----------+-----+-------+----------+------------+---------------------+------------+--------------------+-----------+------------------+\n",
      "|       1| 2025-01-20 12:07:18|  2025-01-20 12:12:42|              1|          1.6|         1|                 N|         138|           8|           4|  863372.12| 6.75|    0.5|       0.0|         0.0|                  1.0|   863380.37|                 0.0|       1.75|               0.0|\n",
      "|       2| 2025-01-16 12:23:14|  2025-01-17 14:41:56|              1|       255.33|         4|                 N|         161|         265|           2|     2450.9|  0.0|    0.0|       0.0|       54.06|                  1.0|     2506.71|                 0.0|        0.0|              0.75|\n",
      "|       2| 2025-01-21 05:17:57|  2025-01-21 08:19:45|              1|       188.88|         4|                 N|         247|         265|           2|     1309.2|  1.0|    0.5|       0.0|         0.0|                  1.0|      1311.7|                 0.0|        0.0|               0.0|\n",
      "|       2| 2025-01-15 19:14:42|  2025-01-15 21:46:13|              1|       143.54|         4|                 N|         132|         265|           1|      936.8|  2.5|    0.0|       0.0|        27.0|                  1.0|      969.05|                 0.0|       1.75|               0.0|\n",
      "|       2| 2025-01-26 00:04:04|  2025-01-26 00:04:42|              4|          0.0|         5|                 N|         142|         142|           2|      950.0|  0.0|    0.0|       0.0|         0.0|                  1.0|       953.5|                 2.5|        0.0|               0.0|\n",
      "|       2| 2025-01-26 00:22:47|  2025-01-26 00:22:55|              4|          0.0|         5|                 N|         226|         226|           2|      950.0|  0.0|    0.0|       0.0|         0.0|                  1.0|       951.0|                 0.0|        0.0|               0.0|\n",
      "|       2| 2025-01-26 00:24:25|  2025-01-26 00:24:35|              4|          0.0|         5|                 N|         226|         226|           2|      950.0|  0.0|    0.0|       0.0|         0.0|                  1.0|       951.0|                 0.0|        0.0|               0.0|\n",
      "|       2| 2025-01-26 00:00:56|  2025-01-26 00:01:06|              4|          0.0|         5|                 N|         142|         142|           2|      900.0|  0.0|    0.0|       0.0|         0.0|                  1.0|       903.5|                 2.5|        0.0|               0.0|\n",
      "|       2| 2025-01-25 23:56:58|  2025-01-25 23:57:06|              4|          0.0|         5|                 N|         142|         142|           2|     899.99|  0.0|    0.0|       0.0|         0.0|                  1.0|      903.49|                 2.5|        0.0|               0.0|\n",
      "|       2| 2025-01-25 23:58:50|  2025-01-25 23:59:00|              4|          0.0|         5|                 N|         142|         142|           2|     899.99|  0.0|    0.0|       0.0|         0.0|                  1.0|      903.49|                 2.5|        0.0|               0.0|\n",
      "|       2| 2025-01-07 19:12:25|  2025-01-07 19:14:04|              1|          0.1|         5|                 N|         226|         226|           3|      900.0|  0.0|    0.0|       0.0|         0.0|                  1.0|       901.0|                 0.0|        0.0|               0.0|\n",
      "|       1| 2025-01-13 17:19:58|  2025-01-13 20:07:08|              1|        133.3|         5|                 N|         132|         265|           1|     893.75| 1.75|    0.0|       0.0|         0.0|                  1.0|       896.5|                 0.0|       1.75|               0.0|\n",
      "|       2| 2025-01-01 23:13:43|  2025-01-02 01:47:38|              1|       132.27|         4|                 N|         132|         265|           4|      826.2|  1.0|    0.0|       0.0|       35.44|                  1.0|      865.39|                 0.0|       1.75|               0.0|\n",
      "|       2| 2025-01-19 23:52:08|  2025-01-19 23:52:17|              1|          0.0|         5|                 N|         265|         265|           4|      850.0|  0.0|    0.0|       0.0|         0.0|                  1.0|       851.0|                 0.0|        0.0|               0.0|\n",
      "|       2| 2025-01-26 19:25:41|  2025-01-26 19:25:56|              1|          0.0|         5|                 N|         216|         216|           1|      800.0|  0.0|    0.0|       0.0|         0.0|                  1.0|       801.0|                 0.0|        0.0|               0.0|\n",
      "|       2| 2025-01-01 12:53:37|  2025-01-01 15:25:57|              1|       119.66|         4|                 N|         101|         265|           2|      773.0|  0.0|    0.5|       0.0|       20.32|                  1.0|      794.82|                 0.0|        0.0|               0.0|\n",
      "|       2| 2025-01-22 15:09:41|  2025-01-22 16:55:52|              2|        83.02|         4|                 N|          48|         265|           1|      596.6|  0.0|    0.0|    122.33|       14.06|                  1.0|      734.74|                 0.0|        0.0|              0.75|\n",
      "|       2| 2025-01-14 02:08:52|  2025-01-14 02:10:20|              1|         0.35|         5|                 N|         230|          48|           4|      700.0|  0.0|    0.0|       0.0|         0.0|                  1.0|      704.25|                 2.5|        0.0|              0.75|\n",
      "|       2| 2025-01-16 08:02:27|  2025-01-16 08:03:02|              4|          0.0|         5|                 N|         132|         132|           4|      700.0|  0.0|    0.0|       0.0|         0.0|                  1.0|      702.75|                 0.0|       1.75|               0.0|\n",
      "|       2| 2025-01-21 01:49:30|  2025-01-21 01:49:47|              1|          0.0|         5|                 N|         132|         132|           2|      700.0|  0.0|    0.0|       0.0|         0.0|                  1.0|      702.75|                 0.0|       1.75|               0.0|\n",
      "+--------+--------------------+---------------------+---------------+-------------+----------+------------------+------------+------------+------------+-----------+-----+-------+----------+------------+---------------------+------------+--------------------+-----------+------------------+\n",
      "only showing top 20 rows\n",
      "\n"
     ]
    }
   ],
   "source": [
    "df.sort('total_amount', ascending=False).show()"
   ]
  },
  {
   "cell_type": "code",
   "execution_count": 22,
   "metadata": {
    "colab": {
     "base_uri": "https://localhost:8080/"
    },
    "id": "7u5ojc7cTDX8",
    "outputId": "cc795bc9-8fb8-414a-b209-e4260b69e96a"
   },
   "outputs": [
    {
     "name": "stdout",
     "output_type": "stream",
     "text": [
      "+--------+--------------------+---------------------+---------------+-------------+----------+------------------+------------+------------+------------+-----------+-----+-------+----------+------------+---------------------+------------+--------------------+-----------+------------------+\n",
      "|VendorID|tpep_pickup_datetime|tpep_dropoff_datetime|passenger_count|trip_distance|RatecodeID|store_and_fwd_flag|PULocationID|DOLocationID|payment_type|fare_amount|extra|mta_tax|tip_amount|tolls_amount|improvement_surcharge|total_amount|congestion_surcharge|Airport_fee|cbd_congestion_fee|\n",
      "+--------+--------------------+---------------------+---------------+-------------+----------+------------------+------------+------------+------------+-----------+-----+-------+----------+------------+---------------------+------------+--------------------+-----------+------------------+\n",
      "|       1| 2025-01-20 12:07:18|  2025-01-20 12:12:42|              1|          1.6|         1|                 N|         138|           8|           4|  863372.12| 6.75|    0.5|       0.0|         0.0|                  1.0|   863380.37|                 0.0|       1.75|               0.0|\n",
      "|       2| 2025-01-16 12:23:14|  2025-01-17 14:41:56|              1|       255.33|         4|                 N|         161|         265|           2|     2450.9|  0.0|    0.0|       0.0|       54.06|                  1.0|     2506.71|                 0.0|        0.0|              0.75|\n",
      "|       2| 2025-01-21 05:17:57|  2025-01-21 08:19:45|              1|       188.88|         4|                 N|         247|         265|           2|     1309.2|  1.0|    0.5|       0.0|         0.0|                  1.0|      1311.7|                 0.0|        0.0|               0.0|\n",
      "|       2| 2025-01-15 19:14:42|  2025-01-15 21:46:13|              1|       143.54|         4|                 N|         132|         265|           1|      936.8|  2.5|    0.0|       0.0|        27.0|                  1.0|      969.05|                 0.0|       1.75|               0.0|\n",
      "|       2| 2025-01-26 00:04:04|  2025-01-26 00:04:42|              4|          0.0|         5|                 N|         142|         142|           2|      950.0|  0.0|    0.0|       0.0|         0.0|                  1.0|       953.5|                 2.5|        0.0|               0.0|\n",
      "|       2| 2025-01-26 00:22:47|  2025-01-26 00:22:55|              4|          0.0|         5|                 N|         226|         226|           2|      950.0|  0.0|    0.0|       0.0|         0.0|                  1.0|       951.0|                 0.0|        0.0|               0.0|\n",
      "|       2| 2025-01-26 00:24:25|  2025-01-26 00:24:35|              4|          0.0|         5|                 N|         226|         226|           2|      950.0|  0.0|    0.0|       0.0|         0.0|                  1.0|       951.0|                 0.0|        0.0|               0.0|\n",
      "|       2| 2025-01-26 00:00:56|  2025-01-26 00:01:06|              4|          0.0|         5|                 N|         142|         142|           2|      900.0|  0.0|    0.0|       0.0|         0.0|                  1.0|       903.5|                 2.5|        0.0|               0.0|\n",
      "|       2| 2025-01-25 23:56:58|  2025-01-25 23:57:06|              4|          0.0|         5|                 N|         142|         142|           2|     899.99|  0.0|    0.0|       0.0|         0.0|                  1.0|      903.49|                 2.5|        0.0|               0.0|\n",
      "|       2| 2025-01-25 23:58:50|  2025-01-25 23:59:00|              4|          0.0|         5|                 N|         142|         142|           2|     899.99|  0.0|    0.0|       0.0|         0.0|                  1.0|      903.49|                 2.5|        0.0|               0.0|\n",
      "|       2| 2025-01-07 19:12:25|  2025-01-07 19:14:04|              1|          0.1|         5|                 N|         226|         226|           3|      900.0|  0.0|    0.0|       0.0|         0.0|                  1.0|       901.0|                 0.0|        0.0|               0.0|\n",
      "|       1| 2025-01-13 17:19:58|  2025-01-13 20:07:08|              1|        133.3|         5|                 N|         132|         265|           1|     893.75| 1.75|    0.0|       0.0|         0.0|                  1.0|       896.5|                 0.0|       1.75|               0.0|\n",
      "|       2| 2025-01-01 23:13:43|  2025-01-02 01:47:38|              1|       132.27|         4|                 N|         132|         265|           4|      826.2|  1.0|    0.0|       0.0|       35.44|                  1.0|      865.39|                 0.0|       1.75|               0.0|\n",
      "|       2| 2025-01-19 23:52:08|  2025-01-19 23:52:17|              1|          0.0|         5|                 N|         265|         265|           4|      850.0|  0.0|    0.0|       0.0|         0.0|                  1.0|       851.0|                 0.0|        0.0|               0.0|\n",
      "|       2| 2025-01-26 19:25:41|  2025-01-26 19:25:56|              1|          0.0|         5|                 N|         216|         216|           1|      800.0|  0.0|    0.0|       0.0|         0.0|                  1.0|       801.0|                 0.0|        0.0|               0.0|\n",
      "|       2| 2025-01-01 12:53:37|  2025-01-01 15:25:57|              1|       119.66|         4|                 N|         101|         265|           2|      773.0|  0.0|    0.5|       0.0|       20.32|                  1.0|      794.82|                 0.0|        0.0|               0.0|\n",
      "|       2| 2025-01-22 15:09:41|  2025-01-22 16:55:52|              2|        83.02|         4|                 N|          48|         265|           1|      596.6|  0.0|    0.0|    122.33|       14.06|                  1.0|      734.74|                 0.0|        0.0|              0.75|\n",
      "|       2| 2025-01-14 02:08:52|  2025-01-14 02:10:20|              1|         0.35|         5|                 N|         230|          48|           4|      700.0|  0.0|    0.0|       0.0|         0.0|                  1.0|      704.25|                 2.5|        0.0|              0.75|\n",
      "|       2| 2025-01-16 08:02:27|  2025-01-16 08:03:02|              4|          0.0|         5|                 N|         132|         132|           4|      700.0|  0.0|    0.0|       0.0|         0.0|                  1.0|      702.75|                 0.0|       1.75|               0.0|\n",
      "|       2| 2025-01-21 01:49:30|  2025-01-21 01:49:47|              1|          0.0|         5|                 N|         132|         132|           2|      700.0|  0.0|    0.0|       0.0|         0.0|                  1.0|      702.75|                 0.0|       1.75|               0.0|\n",
      "+--------+--------------------+---------------------+---------------+-------------+----------+------------------+------------+------------+------------+-----------+-----+-------+----------+------------+---------------------+------------+--------------------+-----------+------------------+\n",
      "only showing top 20 rows\n",
      "\n"
     ]
    }
   ],
   "source": [
    "df.sort(['total_amount', 'passenger_count'], ascending=[False, False]).show()"
   ]
  },
  {
   "cell_type": "markdown",
   "metadata": {
    "id": "IRsk2-UjTJJe"
   },
   "source": [
    "# Filtering data"
   ]
  },
  {
   "cell_type": "code",
   "execution_count": 23,
   "metadata": {
    "colab": {
     "base_uri": "https://localhost:8080/"
    },
    "id": "IdHPI_GLTHSA",
    "outputId": "710a7b97-8f4c-459d-d454-4fc9b9a1730b"
   },
   "outputs": [
    {
     "name": "stdout",
     "output_type": "stream",
     "text": [
      "+--------+--------------------+---------------------+---------------+-------------+----------+------------------+------------+------------+------------+-----------+-----+-------+----------+------------+---------------------+------------+--------------------+-----------+------------------+\n",
      "|VendorID|tpep_pickup_datetime|tpep_dropoff_datetime|passenger_count|trip_distance|RatecodeID|store_and_fwd_flag|PULocationID|DOLocationID|payment_type|fare_amount|extra|mta_tax|tip_amount|tolls_amount|improvement_surcharge|total_amount|congestion_surcharge|Airport_fee|cbd_congestion_fee|\n",
      "+--------+--------------------+---------------------+---------------+-------------+----------+------------------+------------+------------+------------+-----------+-----+-------+----------+------------+---------------------+------------+--------------------+-----------+------------------+\n",
      "|       1| 2025-01-01 00:51:41|  2025-01-01 01:06:26|              1|          7.2|         1|                 N|         132|          95|           1|       29.6| 2.75|    0.5|      6.75|         0.0|                  1.0|        40.6|                 0.0|       1.75|               0.0|\n",
      "|       2| 2025-01-01 00:55:44|  2025-01-01 01:27:41|              1|        14.84|         1|                 N|         132|          89|           1|       59.0|  1.0|    0.5|      12.3|         0.0|                  1.0|       75.55|                 0.0|       1.75|               0.0|\n",
      "|       2| 2025-01-01 00:02:20|  2025-01-01 00:15:55|              1|         4.55|         1|                 N|         138|         146|           1|       19.8|  6.0|    0.5|      8.19|         0.0|                  1.0|       37.24|                 0.0|       1.75|               0.0|\n",
      "|       2| 2025-01-01 00:08:07|  2025-01-01 00:13:06|              1|         1.61|         1|                 N|         138|         138|           2|        9.3|  6.0|    0.5|       0.0|         0.0|                  1.0|       18.55|                 0.0|       1.75|               0.0|\n",
      "|       2| 2025-01-01 00:24:51|  2025-01-01 00:42:52|              2|         8.66|         1|                 N|         138|         256|           1|       35.2|  6.0|    0.5|      4.44|         0.0|                  1.0|       48.89|                 0.0|       1.75|               0.0|\n",
      "|       2| 2025-01-01 00:11:59|  2025-01-01 00:48:37|              2|         9.17|         1|                 N|         138|         186|           1|       48.5|  6.0|    0.5|     13.09|        6.94|                  1.0|       80.28|                 2.5|       1.75|               0.0|\n",
      "|       2| 2025-01-01 00:39:59|  2025-01-01 01:00:37|              1|         7.78|         1|                 N|         138|          36|           1|       33.8|  6.0|    0.5|      8.26|         0.0|                  1.0|       51.31|                 0.0|       1.75|               0.0|\n",
      "|       2| 2025-01-01 00:32:51|  2025-01-01 00:54:01|              1|         9.58|         1|                 N|         132|          77|           2|       39.4|  1.0|    0.5|       0.0|         0.0|                  1.0|       43.65|                 0.0|       1.75|               0.0|\n",
      "|       1| 2025-01-01 00:03:00|  2025-01-01 00:25:10|              2|         10.4|         1|                 N|         138|         162|           1|       40.8|10.25|    0.5|       0.0|        6.94|                  1.0|       59.49|                 2.5|       1.75|               0.0|\n",
      "|       2| 2025-01-01 00:09:22|  2025-01-01 00:20:00|              1|         6.09|         1|                 N|         138|         112|           2|       24.7|  6.0|    0.5|       0.0|         0.0|                  1.0|       33.95|                 0.0|       1.75|               0.0|\n",
      "|       1| 2025-01-01 00:23:05|  2025-01-01 00:56:38|              1|         22.0|         1|                 N|         132|         241|           2|       80.7| 2.75|    0.5|       0.0|        6.94|                  1.0|       91.89|                 0.0|       1.75|               0.0|\n",
      "|       2| 2025-01-01 00:17:04|  2025-01-01 00:39:02|              1|         9.82|         1|                 N|         132|         122|           2|       40.1|  1.0|    0.5|       0.0|         0.0|                  1.0|       44.35|                 0.0|       1.75|               0.0|\n",
      "|       2| 2025-01-01 00:01:41|  2025-01-01 00:15:29|              1|         7.15|         1|                 N|         138|          80|           1|       29.6|  6.0|    0.5|      40.0|         0.0|                  1.0|       78.85|                 0.0|       1.75|               0.0|\n",
      "|       2| 2025-01-01 00:36:08|  2025-01-01 00:54:52|              4|        11.86|         1|                 N|         138|         241|           1|       45.0|  6.0|    0.5|      30.0|        6.94|                  1.0|       91.19|                 0.0|       1.75|               0.0|\n",
      "|       2| 2025-01-01 00:03:30|  2025-01-01 00:16:37|              3|         5.81|         1|                 N|          70|          95|           1|       24.7|  6.0|    0.5|      6.44|         0.0|                  1.0|       40.39|                 0.0|       1.75|               0.0|\n",
      "|       2| 2025-01-01 00:39:58|  2025-01-01 01:01:26|              1|         8.02|         1|                 N|         138|         112|           1|       35.2|  6.0|    0.5|      8.54|         0.0|                  1.0|       52.99|                 0.0|       1.75|               0.0|\n",
      "|       1| 2025-01-01 00:24:10|  2025-01-01 00:32:36|              1|          3.2|         1|                 N|         138|           7|           1|       14.9| 7.75|    0.5|       6.0|         0.0|                  1.0|       30.15|                 0.0|       1.75|               0.0|\n",
      "|       1| 2025-01-01 00:47:18|  2025-01-01 01:00:47|              2|          8.9|         1|                 N|         138|         140|           1|       34.5|10.25|    0.5|      5.32|        6.94|                  1.0|       58.51|                 2.5|       1.75|               0.0|\n",
      "|       2| 2025-01-01 00:18:04|  2025-01-01 00:30:56|              1|         7.41|         1|                 N|         138|         217|           1|       30.3|  6.0|    0.5|      7.56|         0.0|                  1.0|       47.11|                 0.0|       1.75|               0.0|\n",
      "|       2| 2025-01-01 00:13:00|  2025-01-01 00:30:33|              1|         7.64|         1|                 N|         138|          36|           1|       32.4|  6.0|    0.5|       4.0|         0.0|                  1.0|       45.65|                 0.0|       1.75|               0.0|\n",
      "+--------+--------------------+---------------------+---------------+-------------+----------+------------------+------------+------------+------------+-----------+-----+-------+----------+------------+---------------------+------------+--------------------+-----------+------------------+\n",
      "only showing top 20 rows\n",
      "\n"
     ]
    }
   ],
   "source": [
    "df.filter('Airport_fee > 0').show()"
   ]
  },
  {
   "cell_type": "code",
   "execution_count": 24,
   "metadata": {
    "colab": {
     "base_uri": "https://localhost:8080/"
    },
    "id": "IlyI8B2DTMhj",
    "outputId": "6db357b9-ac26-404c-c4a8-c4d962016424"
   },
   "outputs": [
    {
     "name": "stdout",
     "output_type": "stream",
     "text": [
      "+--------+--------------------+---------------------+---------------+-------------+----------+------------------+------------+------------+------------+-----------+-----+-------+----------+------------+---------------------+------------+--------------------+-----------+------------------+\n",
      "|VendorID|tpep_pickup_datetime|tpep_dropoff_datetime|passenger_count|trip_distance|RatecodeID|store_and_fwd_flag|PULocationID|DOLocationID|payment_type|fare_amount|extra|mta_tax|tip_amount|tolls_amount|improvement_surcharge|total_amount|congestion_surcharge|Airport_fee|cbd_congestion_fee|\n",
      "+--------+--------------------+---------------------+---------------+-------------+----------+------------------+------------+------------+------------+-----------+-----+-------+----------+------------+---------------------+------------+--------------------+-----------+------------------+\n",
      "|       2| 2025-01-01 00:36:08|  2025-01-01 00:54:52|              4|        11.86|         1|                 N|         138|         241|           1|       45.0|  6.0|    0.5|      30.0|        6.94|                  1.0|       91.19|                 0.0|       1.75|               0.0|\n",
      "|       2| 2025-01-01 00:03:30|  2025-01-01 00:16:37|              3|         5.81|         1|                 N|          70|          95|           1|       24.7|  6.0|    0.5|      6.44|         0.0|                  1.0|       40.39|                 0.0|       1.75|               0.0|\n",
      "|       2| 2025-01-01 00:54:22|  2025-01-01 01:14:51|              4|          9.3|         4|                 N|         132|         265|           1|       47.1|  1.0|    0.5|      9.92|         0.0|                  1.0|       61.27|                 0.0|       1.75|               0.0|\n",
      "|       2| 2025-01-01 00:08:31|  2025-01-01 00:46:27|              3|        27.11|         4|                 N|         132|         265|           1|      123.4|  1.0|    0.5|     13.76|        9.94|                  1.0|      151.35|                 0.0|       1.75|               0.0|\n",
      "|       2| 2025-01-01 00:07:15|  2025-01-01 00:20:37|              3|         4.33|         1|                 N|         132|          10|           1|       20.5|  1.0|    0.5|       4.6|         0.0|                  1.0|       29.35|                 0.0|       1.75|               0.0|\n",
      "|       2| 2025-01-01 00:29:35|  2025-01-01 00:38:19|              3|         3.83|         1|                 N|         138|          92|           1|       17.0|  6.0|    0.5|      6.56|         0.0|                  1.0|       32.81|                 0.0|       1.75|               0.0|\n",
      "|       2| 2025-01-01 00:36:21|  2025-01-01 01:01:12|              3|        16.86|         1|                 N|         132|         242|           1|       63.2|  1.0|    0.5|     14.53|        6.94|                  1.0|       88.92|                 0.0|       1.75|               0.0|\n",
      "|       1| 2025-01-01 00:06:26|  2025-01-01 00:23:27|              3|          8.9|         1|                 N|          70|         151|           1|       35.9| 7.75|    0.5|      10.4|        6.94|                  1.0|       62.49|                 0.0|       1.75|               0.0|\n",
      "|       1| 2025-01-01 00:31:01|  2025-01-01 00:39:39|              4|          2.5|         1|                 N|         138|         223|           1|       13.5| 7.75|    0.5|       3.0|         0.0|                  1.0|       25.75|                 0.0|       1.75|               0.0|\n",
      "|       2| 2025-01-01 00:12:00|  2025-01-01 00:20:12|              4|         2.35|         1|                 N|         138|         129|           1|       11.4|  6.0|    0.5|      4.72|         0.0|                  1.0|       25.37|                 0.0|       1.75|               0.0|\n",
      "|       2| 2025-01-01 00:38:24|  2025-01-01 01:04:59|              4|        18.64|         2|                 N|         132|         262|           1|       70.0|  0.0|    0.5|      10.0|        6.94|                  1.0|       92.69|                 2.5|       1.75|               0.0|\n",
      "|       2| 2025-01-01 00:17:57|  2025-01-01 00:54:58|              4|        14.36|         1|                 N|         138|          68|           1|       59.7|  6.0|    0.5|       5.0|        6.94|                  1.0|       83.39|                 2.5|       1.75|               0.0|\n",
      "|       2| 2025-01-01 00:06:11|  2025-01-01 00:38:05|              4|        19.59|         1|                 N|         132|          49|           1|       73.0|  1.0|    0.5|      25.0|         0.0|                  1.0|      102.25|                 0.0|       1.75|               0.0|\n",
      "|       1| 2025-01-01 00:02:29|  2025-01-01 00:38:23|              3|         20.1|         2|                 N|         132|         151|           1|       70.0| 1.75|    0.5|      16.0|        6.94|                  1.0|       96.19|                 0.0|       1.75|               0.0|\n",
      "|       2| 2025-01-01 00:11:24|  2025-01-01 00:26:33|              3|         9.35|         1|                 N|         138|         248|           1|       35.9|  6.0|    0.5|     10.07|        6.94|                  1.0|       62.16|                 0.0|       1.75|               0.0|\n",
      "|       2| 2025-01-01 00:16:39|  2025-01-01 00:27:34|              3|         6.92|         1|                 N|         132|          28|           2|       27.5|  1.0|    0.5|       0.0|         0.0|                  1.0|       31.75|                 0.0|       1.75|               0.0|\n",
      "|       2| 2025-01-01 00:06:57|  2025-01-01 00:25:01|              3|          9.9|         1|                 N|         138|         243|           1|       39.4|  6.0|    0.5|     13.46|        6.94|                  1.0|       69.05|                 0.0|       1.75|               0.0|\n",
      "|       1| 2025-01-01 00:17:18|  2025-01-01 00:42:14|              4|         13.0|         1|                 N|         138|         181|           1|       51.3| 7.75|    0.5|      9.08|         0.0|                  1.0|       69.63|                 0.0|       1.75|               0.0|\n",
      "|       2| 2025-01-01 00:07:58|  2025-01-01 00:30:21|              3|        10.72|         1|                 N|         132|          92|           1|       42.9|  1.0|    0.5|      0.01|         0.0|                  1.0|       47.16|                 0.0|       1.75|               0.0|\n",
      "|       2| 2025-01-01 00:07:12|  2025-01-01 00:35:24|              4|        18.63|         2|                 N|         132|         263|           2|       70.0|  0.0|    0.5|       0.0|        6.94|                  1.0|       82.69|                 2.5|       1.75|               0.0|\n",
      "+--------+--------------------+---------------------+---------------+-------------+----------+------------------+------------+------------+------------+-----------+-----+-------+----------+------------+---------------------+------------+--------------------+-----------+------------------+\n",
      "only showing top 20 rows\n",
      "\n"
     ]
    }
   ],
   "source": [
    "df.filter('Airport_fee > 0 and passenger_count > 2').show()"
   ]
  },
  {
   "cell_type": "code",
   "execution_count": 25,
   "metadata": {
    "colab": {
     "base_uri": "https://localhost:8080/"
    },
    "id": "ZN_EUi9nTOvs",
    "outputId": "635c5b4a-3b03-45e4-ea9a-00c7057a2adb"
   },
   "outputs": [
    {
     "name": "stdout",
     "output_type": "stream",
     "text": [
      "+--------+---------------+------------+\n",
      "|VendorID|passenger_count|total_amount|\n",
      "+--------+---------------+------------+\n",
      "|       2|              4|       91.19|\n",
      "|       2|              3|       40.39|\n",
      "|       2|              4|       61.27|\n",
      "|       2|              3|      151.35|\n",
      "|       2|              3|       29.35|\n",
      "|       2|              3|       32.81|\n",
      "|       2|              3|       88.92|\n",
      "|       1|              3|       62.49|\n",
      "|       1|              4|       25.75|\n",
      "|       2|              4|       25.37|\n",
      "|       2|              4|       92.69|\n",
      "|       2|              4|       83.39|\n",
      "|       2|              4|      102.25|\n",
      "|       1|              3|       96.19|\n",
      "|       2|              3|       62.16|\n",
      "|       2|              3|       31.75|\n",
      "|       2|              3|       69.05|\n",
      "|       1|              4|       69.63|\n",
      "|       2|              3|       47.16|\n",
      "|       2|              4|       82.69|\n",
      "+--------+---------------+------------+\n",
      "only showing top 20 rows\n",
      "\n"
     ]
    }
   ],
   "source": [
    "df.filter('Airport_fee > 0 and passenger_count > 2').select('VendorID', 'passenger_count', 'total_amount').show()"
   ]
  },
  {
   "cell_type": "markdown",
   "metadata": {
    "id": "jPA5-qDJTReS"
   },
   "source": [
    "# Challenge solution: Querying a dataframe"
   ]
  },
  {
   "cell_type": "code",
   "execution_count": 10,
   "metadata": {
    "colab": {
     "base_uri": "https://localhost:8080/"
    },
    "id": "Y0m6bUvnTQ1q",
    "outputId": "ae017198-0223-4dcd-b026-9c525fc51262"
   },
   "outputs": [
    {
     "name": "stdout",
     "output_type": "stream",
     "text": [
      "+--------+---------------+------------+\n",
      "|VendorID|passenger_count|total_amount|\n",
      "+--------+---------------+------------+\n",
      "|       2|              9|       107.5|\n",
      "|       2|              9|      111.32|\n",
      "|       2|              9|       101.0|\n",
      "|       2|              8|       102.0|\n",
      "|       2|              8|        86.0|\n",
      "|       2|              8|        81.0|\n",
      "|       2|              8|        81.0|\n",
      "|       2|              7|       100.5|\n",
      "|       2|              7|       74.25|\n",
      "|       2|              6|        22.2|\n",
      "|       2|              6|       11.25|\n",
      "|       2|              6|        42.0|\n",
      "|       2|              6|       19.35|\n",
      "|       1|              6|        21.3|\n",
      "|       2|              6|       18.85|\n",
      "|       2|              6|       23.69|\n",
      "|       2|              6|       21.54|\n",
      "|       2|              6|       23.88|\n",
      "|       2|              6|       11.76|\n",
      "|       2|              6|       15.48|\n",
      "+--------+---------------+------------+\n",
      "only showing top 20 rows\n",
      "\n"
     ]
    }
   ],
   "source": [
    "df.filter('Airport_fee = 0 and passenger_count > 2')\\\n",
    ".select('VendorID', 'passenger_count', 'total_amount')\\\n",
    ".sort('passenger_count', ascending=False)\\\n",
    ".show()"
   ]
  },
  {
   "cell_type": "code",
   "execution_count": null,
   "metadata": {
    "id": "dvTcugo4TlHT"
   },
   "outputs": [],
   "source": []
  }
 ],
 "metadata": {
  "colab": {
   "provenance": []
  },
  "kernelspec": {
   "display_name": "Python 3 (ipykernel)",
   "language": "python",
   "name": "python3"
  },
  "language_info": {
   "codemirror_mode": {
    "name": "ipython",
    "version": 3
   },
   "file_extension": ".py",
   "mimetype": "text/x-python",
   "name": "python",
   "nbconvert_exporter": "python",
   "pygments_lexer": "ipython3",
   "version": "3.12.1"
  }
 },
 "nbformat": 4,
 "nbformat_minor": 4
}
