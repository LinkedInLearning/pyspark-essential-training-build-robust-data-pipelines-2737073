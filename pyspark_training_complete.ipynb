{
  "nbformat": 4,
  "nbformat_minor": 0,
  "metadata": {
    "colab": {
      "provenance": []
    },
    "kernelspec": {
      "name": "python3",
      "display_name": "Python 3"
    },
    "language_info": {
      "name": "python"
    }
  },
  "cells": [
    {
      "cell_type": "markdown",
      "source": [
        "# Initial setup"
      ],
      "metadata": {
        "id": "XFEfG30uSiLG"
      }
    },
    {
      "cell_type": "code",
      "execution_count": 1,
      "metadata": {
        "colab": {
          "base_uri": "https://localhost:8080/"
        },
        "id": "tZXttlglPuW7",
        "outputId": "9f003cc5-8812-4836-c1db-1d4f3669e920"
      },
      "outputs": [
        {
          "output_type": "stream",
          "name": "stdout",
          "text": [
            "Requirement already satisfied: pyspark in /usr/local/lib/python3.11/dist-packages (3.5.1)\n",
            "Requirement already satisfied: py4j==0.10.9.7 in /usr/local/lib/python3.11/dist-packages (from pyspark) (0.10.9.7)\n"
          ]
        }
      ],
      "source": [
        "# Install pyspark\n",
        "!pip install pyspark"
      ]
    },
    {
      "cell_type": "code",
      "source": [
        "# Import pyspark and check the version\n",
        "import pyspark\n",
        "pyspark.__version__"
      ],
      "metadata": {
        "colab": {
          "base_uri": "https://localhost:8080/",
          "height": 35
        },
        "id": "czH_i4ALP85W",
        "outputId": "aa4d2eb4-ee94-46f9-daea-ab2a41385a2c"
      },
      "execution_count": 2,
      "outputs": [
        {
          "output_type": "execute_result",
          "data": {
            "text/plain": [
              "'3.5.1'"
            ],
            "application/vnd.google.colaboratory.intrinsic+json": {
              "type": "string"
            }
          },
          "metadata": {},
          "execution_count": 2
        }
      ]
    },
    {
      "cell_type": "markdown",
      "source": [
        "# Mounting Drive and importing files"
      ],
      "metadata": {
        "id": "Xl_xUfQhSmC2"
      }
    },
    {
      "cell_type": "code",
      "source": [
        "# Mount Drive\n",
        "from google.colab import drive\n",
        "drive.mount('/content/drive/')"
      ],
      "metadata": {
        "colab": {
          "base_uri": "https://localhost:8080/"
        },
        "id": "08sfTCMtP-W5",
        "outputId": "e9fa6d23-f2d2-4e95-acc8-d5a8403b6b7e"
      },
      "execution_count": 3,
      "outputs": [
        {
          "output_type": "stream",
          "name": "stdout",
          "text": [
            "Mounted at /content/drive/\n"
          ]
        }
      ]
    },
    {
      "cell_type": "code",
      "source": [
        "# Check if files exist\n",
        "import os\n",
        "os.path.isfile('/content/drive/MyDrive/pyspark_training/yellow_tripdata_2025-01.parquet')"
      ],
      "metadata": {
        "colab": {
          "base_uri": "https://localhost:8080/"
        },
        "id": "q6rrTpoDQYYd",
        "outputId": "2af7a8e4-54dd-4b2a-9b30-3522950a5be8"
      },
      "execution_count": 4,
      "outputs": [
        {
          "output_type": "execute_result",
          "data": {
            "text/plain": [
              "True"
            ]
          },
          "metadata": {},
          "execution_count": 4
        }
      ]
    },
    {
      "cell_type": "markdown",
      "source": [
        "# Initiating SparkSession"
      ],
      "metadata": {
        "id": "rUnMlWJ8St5z"
      }
    },
    {
      "cell_type": "code",
      "source": [
        "# Initiate SparkSession\n",
        "from pyspark.sql import SparkSession\n",
        "spark = SparkSession.builder.getOrCreate()\n",
        "spark"
      ],
      "metadata": {
        "colab": {
          "base_uri": "https://localhost:8080/",
          "height": 221
        },
        "id": "USh3ueoYQt8c",
        "outputId": "f3d350ba-1794-4f00-be79-42a54057ca60"
      },
      "execution_count": 5,
      "outputs": [
        {
          "output_type": "execute_result",
          "data": {
            "text/plain": [
              "<pyspark.sql.session.SparkSession at 0x7caff466d9d0>"
            ],
            "text/html": [
              "\n",
              "            <div>\n",
              "                <p><b>SparkSession - in-memory</b></p>\n",
              "                \n",
              "        <div>\n",
              "            <p><b>SparkContext</b></p>\n",
              "\n",
              "            <p><a href=\"http://cd934dfa57be:4040\">Spark UI</a></p>\n",
              "\n",
              "            <dl>\n",
              "              <dt>Version</dt>\n",
              "                <dd><code>v3.5.1</code></dd>\n",
              "              <dt>Master</dt>\n",
              "                <dd><code>local[*]</code></dd>\n",
              "              <dt>AppName</dt>\n",
              "                <dd><code>pyspark-shell</code></dd>\n",
              "            </dl>\n",
              "        </div>\n",
              "        \n",
              "            </div>\n",
              "        "
            ]
          },
          "metadata": {},
          "execution_count": 5
        }
      ]
    },
    {
      "cell_type": "markdown",
      "source": [
        "# Data formats and loading data\n",
        "\n"
      ],
      "metadata": {
        "id": "cmfBDxtgSzLR"
      }
    },
    {
      "cell_type": "code",
      "source": [
        "# Read in data file\n",
        "df = spark.read.parquet('/content/drive/MyDrive/pyspark_training/yellow_tripdata_2025-01.parquet')"
      ],
      "metadata": {
        "id": "v6x5VSeYQzd-"
      },
      "execution_count": 6,
      "outputs": []
    },
    {
      "cell_type": "code",
      "source": [
        "# Show the top 5 rows of df\n",
        "df.show(5)"
      ],
      "metadata": {
        "colab": {
          "base_uri": "https://localhost:8080/"
        },
        "id": "zWhxpRsfRGm7",
        "outputId": "8d5bc9e3-645a-4e25-a591-e1ecb26765c7"
      },
      "execution_count": 7,
      "outputs": [
        {
          "output_type": "stream",
          "name": "stdout",
          "text": [
            "+--------+--------------------+---------------------+---------------+-------------+----------+------------------+------------+------------+------------+-----------+-----+-------+----------+------------+---------------------+------------+--------------------+-----------+------------------+\n",
            "|VendorID|tpep_pickup_datetime|tpep_dropoff_datetime|passenger_count|trip_distance|RatecodeID|store_and_fwd_flag|PULocationID|DOLocationID|payment_type|fare_amount|extra|mta_tax|tip_amount|tolls_amount|improvement_surcharge|total_amount|congestion_surcharge|Airport_fee|cbd_congestion_fee|\n",
            "+--------+--------------------+---------------------+---------------+-------------+----------+------------------+------------+------------+------------+-----------+-----+-------+----------+------------+---------------------+------------+--------------------+-----------+------------------+\n",
            "|       1| 2025-01-01 00:18:38|  2025-01-01 00:26:59|              1|          1.6|         1|                 N|         229|         237|           1|       10.0|  3.5|    0.5|       3.0|         0.0|                  1.0|        18.0|                 2.5|        0.0|               0.0|\n",
            "|       1| 2025-01-01 00:32:40|  2025-01-01 00:35:13|              1|          0.5|         1|                 N|         236|         237|           1|        5.1|  3.5|    0.5|      2.02|         0.0|                  1.0|       12.12|                 2.5|        0.0|               0.0|\n",
            "|       1| 2025-01-01 00:44:04|  2025-01-01 00:46:01|              1|          0.6|         1|                 N|         141|         141|           1|        5.1|  3.5|    0.5|       2.0|         0.0|                  1.0|        12.1|                 2.5|        0.0|               0.0|\n",
            "|       2| 2025-01-01 00:14:27|  2025-01-01 00:20:01|              3|         0.52|         1|                 N|         244|         244|           2|        7.2|  1.0|    0.5|       0.0|         0.0|                  1.0|         9.7|                 0.0|        0.0|               0.0|\n",
            "|       2| 2025-01-01 00:21:34|  2025-01-01 00:25:06|              3|         0.66|         1|                 N|         244|         116|           2|        5.8|  1.0|    0.5|       0.0|         0.0|                  1.0|         8.3|                 0.0|        0.0|               0.0|\n",
            "+--------+--------------------+---------------------+---------------+-------------+----------+------------------+------------+------------+------------+-----------+-----+-------+----------+------------+---------------------+------------+--------------------+-----------+------------------+\n",
            "only showing top 5 rows\n",
            "\n"
          ]
        }
      ]
    },
    {
      "cell_type": "code",
      "source": [
        "# Check rowcount in dataframe\n",
        "df.count()"
      ],
      "metadata": {
        "colab": {
          "base_uri": "https://localhost:8080/"
        },
        "id": "4yj0IYrqRgIE",
        "outputId": "9d41d79c-ad56-4ebe-d9b4-d655cd315a69"
      },
      "execution_count": 8,
      "outputs": [
        {
          "output_type": "execute_result",
          "data": {
            "text/plain": [
              "3475226"
            ]
          },
          "metadata": {},
          "execution_count": 8
        }
      ]
    },
    {
      "cell_type": "code",
      "source": [
        "# Show colum names\n",
        "df.schema.names"
      ],
      "metadata": {
        "colab": {
          "base_uri": "https://localhost:8080/"
        },
        "id": "bs5ynnJ6Rk2w",
        "outputId": "c931f848-68a1-4a9b-a617-dc3c06eada3d"
      },
      "execution_count": 9,
      "outputs": [
        {
          "output_type": "execute_result",
          "data": {
            "text/plain": [
              "['VendorID',\n",
              " 'tpep_pickup_datetime',\n",
              " 'tpep_dropoff_datetime',\n",
              " 'passenger_count',\n",
              " 'trip_distance',\n",
              " 'RatecodeID',\n",
              " 'store_and_fwd_flag',\n",
              " 'PULocationID',\n",
              " 'DOLocationID',\n",
              " 'payment_type',\n",
              " 'fare_amount',\n",
              " 'extra',\n",
              " 'mta_tax',\n",
              " 'tip_amount',\n",
              " 'tolls_amount',\n",
              " 'improvement_surcharge',\n",
              " 'total_amount',\n",
              " 'congestion_surcharge',\n",
              " 'Airport_fee',\n",
              " 'cbd_congestion_fee']"
            ]
          },
          "metadata": {},
          "execution_count": 9
        }
      ]
    },
    {
      "cell_type": "code",
      "source": [
        "# Show column names + datatypes\n",
        "df.printSchema()"
      ],
      "metadata": {
        "colab": {
          "base_uri": "https://localhost:8080/"
        },
        "id": "GwO6ZveoRy9x",
        "outputId": "a4000cd3-83d9-47bd-aca6-a24cdc076ff4"
      },
      "execution_count": 10,
      "outputs": [
        {
          "output_type": "stream",
          "name": "stdout",
          "text": [
            "root\n",
            " |-- VendorID: integer (nullable = true)\n",
            " |-- tpep_pickup_datetime: timestamp_ntz (nullable = true)\n",
            " |-- tpep_dropoff_datetime: timestamp_ntz (nullable = true)\n",
            " |-- passenger_count: long (nullable = true)\n",
            " |-- trip_distance: double (nullable = true)\n",
            " |-- RatecodeID: long (nullable = true)\n",
            " |-- store_and_fwd_flag: string (nullable = true)\n",
            " |-- PULocationID: integer (nullable = true)\n",
            " |-- DOLocationID: integer (nullable = true)\n",
            " |-- payment_type: long (nullable = true)\n",
            " |-- fare_amount: double (nullable = true)\n",
            " |-- extra: double (nullable = true)\n",
            " |-- mta_tax: double (nullable = true)\n",
            " |-- tip_amount: double (nullable = true)\n",
            " |-- tolls_amount: double (nullable = true)\n",
            " |-- improvement_surcharge: double (nullable = true)\n",
            " |-- total_amount: double (nullable = true)\n",
            " |-- congestion_surcharge: double (nullable = true)\n",
            " |-- Airport_fee: double (nullable = true)\n",
            " |-- cbd_congestion_fee: double (nullable = true)\n",
            "\n"
          ]
        }
      ]
    },
    {
      "cell_type": "code",
      "source": [
        "# Descriptive stats for a subset of columns\n",
        "df.describe(['passenger_count', 'total_amount']).show()"
      ],
      "metadata": {
        "colab": {
          "base_uri": "https://localhost:8080/"
        },
        "id": "QlzQTwdJR9KO",
        "outputId": "ad1dd293-7edf-476a-ae9f-0277a1c625e9"
      },
      "execution_count": 11,
      "outputs": [
        {
          "output_type": "stream",
          "name": "stdout",
          "text": [
            "+-------+------------------+------------------+\n",
            "|summary|   passenger_count|      total_amount|\n",
            "+-------+------------------+------------------+\n",
            "|  count|           2935077|           3475226|\n",
            "|   mean|1.2978589658806226|25.611291697295062|\n",
            "| stddev| 0.750750275480471| 463.6584784502283|\n",
            "|    min|                 0|            -901.0|\n",
            "|    max|                 9|         863380.37|\n",
            "+-------+------------------+------------------+\n",
            "\n"
          ]
        }
      ]
    },
    {
      "cell_type": "markdown",
      "source": [
        "# Basic querying: Selecting columns"
      ],
      "metadata": {
        "id": "K42lLhE4Sb1x"
      }
    },
    {
      "cell_type": "code",
      "source": [
        "# Select a column\n",
        "df.passenger_count"
      ],
      "metadata": {
        "id": "Q3l-pBT8SHLF",
        "colab": {
          "base_uri": "https://localhost:8080/"
        },
        "outputId": "04ff6c25-654f-40e4-84c7-ce29076689de"
      },
      "execution_count": 18,
      "outputs": [
        {
          "output_type": "execute_result",
          "data": {
            "text/plain": [
              "Column<'passenger_count'>"
            ]
          },
          "metadata": {},
          "execution_count": 18
        }
      ]
    },
    {
      "cell_type": "code",
      "source": [
        "# Alternative notation to select a column\n",
        "df['passenger_count']"
      ],
      "metadata": {
        "id": "SsEpsK0iSJpc",
        "colab": {
          "base_uri": "https://localhost:8080/"
        },
        "outputId": "79f638b5-d51e-4381-a2da-2b0f5dc45a3b"
      },
      "execution_count": 19,
      "outputs": [
        {
          "output_type": "execute_result",
          "data": {
            "text/plain": [
              "Column<'passenger_count'>"
            ]
          },
          "metadata": {},
          "execution_count": 19
        }
      ]
    },
    {
      "cell_type": "code",
      "source": [
        "# Alternative notation to select a column\n",
        "df.select('passenger_count')"
      ],
      "metadata": {
        "id": "yk4MsmQCSLd5",
        "colab": {
          "base_uri": "https://localhost:8080/"
        },
        "outputId": "a85ea8c9-12c6-4513-d896-49bfd2a69b5c"
      },
      "execution_count": 20,
      "outputs": [
        {
          "output_type": "execute_result",
          "data": {
            "text/plain": [
              "DataFrame[passenger_count: bigint]"
            ]
          },
          "metadata": {},
          "execution_count": 20
        }
      ]
    },
    {
      "cell_type": "code",
      "source": [
        "# Select a column and display it\n",
        "df.select('passenger_count').show()"
      ],
      "metadata": {
        "id": "4z3N-b7LSNQA",
        "colab": {
          "base_uri": "https://localhost:8080/"
        },
        "outputId": "dbda4766-1280-477c-9861-0a5af2e2dbce"
      },
      "execution_count": 22,
      "outputs": [
        {
          "output_type": "stream",
          "name": "stdout",
          "text": [
            "+---------------+\n",
            "|passenger_count|\n",
            "+---------------+\n",
            "|              1|\n",
            "|              1|\n",
            "|              1|\n",
            "|              3|\n",
            "|              3|\n",
            "|              2|\n",
            "|              0|\n",
            "|              0|\n",
            "|              0|\n",
            "|              1|\n",
            "|              1|\n",
            "|              1|\n",
            "|              3|\n",
            "|              1|\n",
            "|              1|\n",
            "|              3|\n",
            "|              1|\n",
            "|              1|\n",
            "|              1|\n",
            "|              2|\n",
            "+---------------+\n",
            "only showing top 20 rows\n",
            "\n"
          ]
        }
      ]
    },
    {
      "cell_type": "code",
      "source": [
        "# Alternative notation to select a column and display it\n",
        "from pyspark.sql.functions import col\n",
        "df.select(col('passenger_count')).show()"
      ],
      "metadata": {
        "id": "jJZxkfmXSSdy",
        "colab": {
          "base_uri": "https://localhost:8080/"
        },
        "outputId": "34454901-5cd4-4072-b3cb-15afcf296127"
      },
      "execution_count": 16,
      "outputs": [
        {
          "output_type": "stream",
          "name": "stdout",
          "text": [
            "+---------------+\n",
            "|passenger_count|\n",
            "+---------------+\n",
            "|              1|\n",
            "|              1|\n",
            "|              1|\n",
            "|              3|\n",
            "|              3|\n",
            "|              2|\n",
            "|              0|\n",
            "|              0|\n",
            "|              0|\n",
            "|              1|\n",
            "|              1|\n",
            "|              1|\n",
            "|              3|\n",
            "|              1|\n",
            "|              1|\n",
            "|              3|\n",
            "|              1|\n",
            "|              1|\n",
            "|              1|\n",
            "|              2|\n",
            "+---------------+\n",
            "only showing top 20 rows\n",
            "\n"
          ]
        }
      ]
    },
    {
      "cell_type": "code",
      "source": [
        "# Select multiple columns and display them\n",
        "df.select('passenger_count',  'total_amount').show()"
      ],
      "metadata": {
        "id": "qft90tWeS5c4",
        "colab": {
          "base_uri": "https://localhost:8080/"
        },
        "outputId": "0f530da0-96d3-4c6e-f780-524de4cc4707"
      },
      "execution_count": 17,
      "outputs": [
        {
          "output_type": "stream",
          "name": "stdout",
          "text": [
            "+---------------+------------+\n",
            "|passenger_count|total_amount|\n",
            "+---------------+------------+\n",
            "|              1|        18.0|\n",
            "|              1|       12.12|\n",
            "|              1|        12.1|\n",
            "|              3|         9.7|\n",
            "|              3|         8.3|\n",
            "|              2|        24.1|\n",
            "|              0|       11.75|\n",
            "|              0|        19.1|\n",
            "|              0|        27.1|\n",
            "|              1|        16.4|\n",
            "|              1|        16.4|\n",
            "|              1|       12.96|\n",
            "|              3|        19.2|\n",
            "|              1|        12.9|\n",
            "|              1|        38.9|\n",
            "|              3|        22.7|\n",
            "|              1|       25.55|\n",
            "|              1|       -8.54|\n",
            "|              1|        12.2|\n",
            "|              2|        20.6|\n",
            "+---------------+------------+\n",
            "only showing top 20 rows\n",
            "\n"
          ]
        }
      ]
    },
    {
      "cell_type": "markdown",
      "source": [
        "# Sorting dataframes"
      ],
      "metadata": {
        "id": "4TC6rbVXS9ze"
      }
    },
    {
      "cell_type": "code",
      "source": [
        "# Sort df descending by the total_amount column\n",
        "df.sort('total_amount', ascending=False).show()"
      ],
      "metadata": {
        "id": "WXrY2rJHS8HJ",
        "colab": {
          "base_uri": "https://localhost:8080/"
        },
        "outputId": "877408fd-8f8b-4c2c-83bd-7b32a51d0947"
      },
      "execution_count": 40,
      "outputs": [
        {
          "output_type": "stream",
          "name": "stdout",
          "text": [
            "+--------+--------------------+---------------------+---------------+-------------+----------+------------------+------------+------------+------------+-----------+-----+-------+----------+------------+---------------------+------------+--------------------+-----------+------------------+\n",
            "|VendorID|tpep_pickup_datetime|tpep_dropoff_datetime|passenger_count|trip_distance|RatecodeID|store_and_fwd_flag|PULocationID|DOLocationID|payment_type|fare_amount|extra|mta_tax|tip_amount|tolls_amount|improvement_surcharge|total_amount|congestion_surcharge|Airport_fee|cbd_congestion_fee|\n",
            "+--------+--------------------+---------------------+---------------+-------------+----------+------------------+------------+------------+------------+-----------+-----+-------+----------+------------+---------------------+------------+--------------------+-----------+------------------+\n",
            "|       1| 2025-01-20 12:07:18|  2025-01-20 12:12:42|              1|          1.6|         1|                 N|         138|           8|           4|  863372.12| 6.75|    0.5|       0.0|         0.0|                  1.0|   863380.37|                 0.0|       1.75|               0.0|\n",
            "|       2| 2025-01-16 12:23:14|  2025-01-17 14:41:56|              1|       255.33|         4|                 N|         161|         265|           2|     2450.9|  0.0|    0.0|       0.0|       54.06|                  1.0|     2506.71|                 0.0|        0.0|              0.75|\n",
            "|       2| 2025-01-21 05:17:57|  2025-01-21 08:19:45|              1|       188.88|         4|                 N|         247|         265|           2|     1309.2|  1.0|    0.5|       0.0|         0.0|                  1.0|      1311.7|                 0.0|        0.0|               0.0|\n",
            "|       2| 2025-01-15 19:14:42|  2025-01-15 21:46:13|              1|       143.54|         4|                 N|         132|         265|           1|      936.8|  2.5|    0.0|       0.0|        27.0|                  1.0|      969.05|                 0.0|       1.75|               0.0|\n",
            "|       2| 2025-01-26 00:04:04|  2025-01-26 00:04:42|              4|          0.0|         5|                 N|         142|         142|           2|      950.0|  0.0|    0.0|       0.0|         0.0|                  1.0|       953.5|                 2.5|        0.0|               0.0|\n",
            "|       2| 2025-01-26 00:22:47|  2025-01-26 00:22:55|              4|          0.0|         5|                 N|         226|         226|           2|      950.0|  0.0|    0.0|       0.0|         0.0|                  1.0|       951.0|                 0.0|        0.0|               0.0|\n",
            "|       2| 2025-01-26 00:24:25|  2025-01-26 00:24:35|              4|          0.0|         5|                 N|         226|         226|           2|      950.0|  0.0|    0.0|       0.0|         0.0|                  1.0|       951.0|                 0.0|        0.0|               0.0|\n",
            "|       2| 2025-01-26 00:00:56|  2025-01-26 00:01:06|              4|          0.0|         5|                 N|         142|         142|           2|      900.0|  0.0|    0.0|       0.0|         0.0|                  1.0|       903.5|                 2.5|        0.0|               0.0|\n",
            "|       2| 2025-01-25 23:56:58|  2025-01-25 23:57:06|              4|          0.0|         5|                 N|         142|         142|           2|     899.99|  0.0|    0.0|       0.0|         0.0|                  1.0|      903.49|                 2.5|        0.0|               0.0|\n",
            "|       2| 2025-01-25 23:58:50|  2025-01-25 23:59:00|              4|          0.0|         5|                 N|         142|         142|           2|     899.99|  0.0|    0.0|       0.0|         0.0|                  1.0|      903.49|                 2.5|        0.0|               0.0|\n",
            "|       2| 2025-01-07 19:12:25|  2025-01-07 19:14:04|              1|          0.1|         5|                 N|         226|         226|           3|      900.0|  0.0|    0.0|       0.0|         0.0|                  1.0|       901.0|                 0.0|        0.0|               0.0|\n",
            "|       1| 2025-01-13 17:19:58|  2025-01-13 20:07:08|              1|        133.3|         5|                 N|         132|         265|           1|     893.75| 1.75|    0.0|       0.0|         0.0|                  1.0|       896.5|                 0.0|       1.75|               0.0|\n",
            "|       2| 2025-01-01 23:13:43|  2025-01-02 01:47:38|              1|       132.27|         4|                 N|         132|         265|           4|      826.2|  1.0|    0.0|       0.0|       35.44|                  1.0|      865.39|                 0.0|       1.75|               0.0|\n",
            "|       2| 2025-01-19 23:52:08|  2025-01-19 23:52:17|              1|          0.0|         5|                 N|         265|         265|           4|      850.0|  0.0|    0.0|       0.0|         0.0|                  1.0|       851.0|                 0.0|        0.0|               0.0|\n",
            "|       2| 2025-01-26 19:25:41|  2025-01-26 19:25:56|              1|          0.0|         5|                 N|         216|         216|           1|      800.0|  0.0|    0.0|       0.0|         0.0|                  1.0|       801.0|                 0.0|        0.0|               0.0|\n",
            "|       2| 2025-01-01 12:53:37|  2025-01-01 15:25:57|              1|       119.66|         4|                 N|         101|         265|           2|      773.0|  0.0|    0.5|       0.0|       20.32|                  1.0|      794.82|                 0.0|        0.0|               0.0|\n",
            "|       2| 2025-01-22 15:09:41|  2025-01-22 16:55:52|              2|        83.02|         4|                 N|          48|         265|           1|      596.6|  0.0|    0.0|    122.33|       14.06|                  1.0|      734.74|                 0.0|        0.0|              0.75|\n",
            "|       2| 2025-01-14 02:08:52|  2025-01-14 02:10:20|              1|         0.35|         5|                 N|         230|          48|           4|      700.0|  0.0|    0.0|       0.0|         0.0|                  1.0|      704.25|                 2.5|        0.0|              0.75|\n",
            "|       2| 2025-01-16 08:02:27|  2025-01-16 08:03:02|              4|          0.0|         5|                 N|         132|         132|           4|      700.0|  0.0|    0.0|       0.0|         0.0|                  1.0|      702.75|                 0.0|       1.75|               0.0|\n",
            "|       2| 2025-01-21 01:49:30|  2025-01-21 01:49:47|              1|          0.0|         5|                 N|         132|         132|           2|      700.0|  0.0|    0.0|       0.0|         0.0|                  1.0|      702.75|                 0.0|       1.75|               0.0|\n",
            "+--------+--------------------+---------------------+---------------+-------------+----------+------------------+------------+------------+------------+-----------+-----+-------+----------+------------+---------------------+------------+--------------------+-----------+------------------+\n",
            "only showing top 20 rows\n",
            "\n"
          ]
        }
      ]
    },
    {
      "cell_type": "code",
      "source": [
        "# Sort df by two columns in descending order\n",
        "df.sort(['total_amount', 'passenger_count'], ascending=[False, False]).show()"
      ],
      "metadata": {
        "id": "7u5ojc7cTDX8",
        "colab": {
          "base_uri": "https://localhost:8080/"
        },
        "outputId": "b0caa299-bef6-4846-9213-c25b0ac83bd8"
      },
      "execution_count": 24,
      "outputs": [
        {
          "output_type": "stream",
          "name": "stdout",
          "text": [
            "+--------+--------------------+---------------------+---------------+-------------+----------+------------------+------------+------------+------------+-----------+-----+-------+----------+------------+---------------------+------------+--------------------+-----------+------------------+\n",
            "|VendorID|tpep_pickup_datetime|tpep_dropoff_datetime|passenger_count|trip_distance|RatecodeID|store_and_fwd_flag|PULocationID|DOLocationID|payment_type|fare_amount|extra|mta_tax|tip_amount|tolls_amount|improvement_surcharge|total_amount|congestion_surcharge|Airport_fee|cbd_congestion_fee|\n",
            "+--------+--------------------+---------------------+---------------+-------------+----------+------------------+------------+------------+------------+-----------+-----+-------+----------+------------+---------------------+------------+--------------------+-----------+------------------+\n",
            "|       1| 2025-01-20 12:07:18|  2025-01-20 12:12:42|              1|          1.6|         1|                 N|         138|           8|           4|  863372.12| 6.75|    0.5|       0.0|         0.0|                  1.0|   863380.37|                 0.0|       1.75|               0.0|\n",
            "|       2| 2025-01-16 12:23:14|  2025-01-17 14:41:56|              1|       255.33|         4|                 N|         161|         265|           2|     2450.9|  0.0|    0.0|       0.0|       54.06|                  1.0|     2506.71|                 0.0|        0.0|              0.75|\n",
            "|       2| 2025-01-21 05:17:57|  2025-01-21 08:19:45|              1|       188.88|         4|                 N|         247|         265|           2|     1309.2|  1.0|    0.5|       0.0|         0.0|                  1.0|      1311.7|                 0.0|        0.0|               0.0|\n",
            "|       2| 2025-01-15 19:14:42|  2025-01-15 21:46:13|              1|       143.54|         4|                 N|         132|         265|           1|      936.8|  2.5|    0.0|       0.0|        27.0|                  1.0|      969.05|                 0.0|       1.75|               0.0|\n",
            "|       2| 2025-01-26 00:04:04|  2025-01-26 00:04:42|              4|          0.0|         5|                 N|         142|         142|           2|      950.0|  0.0|    0.0|       0.0|         0.0|                  1.0|       953.5|                 2.5|        0.0|               0.0|\n",
            "|       2| 2025-01-26 00:22:47|  2025-01-26 00:22:55|              4|          0.0|         5|                 N|         226|         226|           2|      950.0|  0.0|    0.0|       0.0|         0.0|                  1.0|       951.0|                 0.0|        0.0|               0.0|\n",
            "|       2| 2025-01-26 00:24:25|  2025-01-26 00:24:35|              4|          0.0|         5|                 N|         226|         226|           2|      950.0|  0.0|    0.0|       0.0|         0.0|                  1.0|       951.0|                 0.0|        0.0|               0.0|\n",
            "|       2| 2025-01-26 00:00:56|  2025-01-26 00:01:06|              4|          0.0|         5|                 N|         142|         142|           2|      900.0|  0.0|    0.0|       0.0|         0.0|                  1.0|       903.5|                 2.5|        0.0|               0.0|\n",
            "|       2| 2025-01-25 23:56:58|  2025-01-25 23:57:06|              4|          0.0|         5|                 N|         142|         142|           2|     899.99|  0.0|    0.0|       0.0|         0.0|                  1.0|      903.49|                 2.5|        0.0|               0.0|\n",
            "|       2| 2025-01-25 23:58:50|  2025-01-25 23:59:00|              4|          0.0|         5|                 N|         142|         142|           2|     899.99|  0.0|    0.0|       0.0|         0.0|                  1.0|      903.49|                 2.5|        0.0|               0.0|\n",
            "|       2| 2025-01-07 19:12:25|  2025-01-07 19:14:04|              1|          0.1|         5|                 N|         226|         226|           3|      900.0|  0.0|    0.0|       0.0|         0.0|                  1.0|       901.0|                 0.0|        0.0|               0.0|\n",
            "|       1| 2025-01-13 17:19:58|  2025-01-13 20:07:08|              1|        133.3|         5|                 N|         132|         265|           1|     893.75| 1.75|    0.0|       0.0|         0.0|                  1.0|       896.5|                 0.0|       1.75|               0.0|\n",
            "|       2| 2025-01-01 23:13:43|  2025-01-02 01:47:38|              1|       132.27|         4|                 N|         132|         265|           4|      826.2|  1.0|    0.0|       0.0|       35.44|                  1.0|      865.39|                 0.0|       1.75|               0.0|\n",
            "|       2| 2025-01-19 23:52:08|  2025-01-19 23:52:17|              1|          0.0|         5|                 N|         265|         265|           4|      850.0|  0.0|    0.0|       0.0|         0.0|                  1.0|       851.0|                 0.0|        0.0|               0.0|\n",
            "|       2| 2025-01-26 19:25:41|  2025-01-26 19:25:56|              1|          0.0|         5|                 N|         216|         216|           1|      800.0|  0.0|    0.0|       0.0|         0.0|                  1.0|       801.0|                 0.0|        0.0|               0.0|\n",
            "|       2| 2025-01-01 12:53:37|  2025-01-01 15:25:57|              1|       119.66|         4|                 N|         101|         265|           2|      773.0|  0.0|    0.5|       0.0|       20.32|                  1.0|      794.82|                 0.0|        0.0|               0.0|\n",
            "|       2| 2025-01-22 15:09:41|  2025-01-22 16:55:52|              2|        83.02|         4|                 N|          48|         265|           1|      596.6|  0.0|    0.0|    122.33|       14.06|                  1.0|      734.74|                 0.0|        0.0|              0.75|\n",
            "|       2| 2025-01-14 02:08:52|  2025-01-14 02:10:20|              1|         0.35|         5|                 N|         230|          48|           4|      700.0|  0.0|    0.0|       0.0|         0.0|                  1.0|      704.25|                 2.5|        0.0|              0.75|\n",
            "|       2| 2025-01-16 08:02:27|  2025-01-16 08:03:02|              4|          0.0|         5|                 N|         132|         132|           4|      700.0|  0.0|    0.0|       0.0|         0.0|                  1.0|      702.75|                 0.0|       1.75|               0.0|\n",
            "|       2| 2025-01-21 01:49:30|  2025-01-21 01:49:47|              1|          0.0|         5|                 N|         132|         132|           2|      700.0|  0.0|    0.0|       0.0|         0.0|                  1.0|      702.75|                 0.0|       1.75|               0.0|\n",
            "+--------+--------------------+---------------------+---------------+-------------+----------+------------------+------------+------------+------------+-----------+-----+-------+----------+------------+---------------------+------------+--------------------+-----------+------------------+\n",
            "only showing top 20 rows\n",
            "\n"
          ]
        }
      ]
    },
    {
      "cell_type": "markdown",
      "source": [
        "# Filtering data"
      ],
      "metadata": {
        "id": "IRsk2-UjTJJe"
      }
    },
    {
      "cell_type": "code",
      "source": [
        "# Filter dataframe\n",
        "df.filter('Airport_fee > 0').show()"
      ],
      "metadata": {
        "id": "IdHPI_GLTHSA",
        "colab": {
          "base_uri": "https://localhost:8080/"
        },
        "outputId": "4df913e7-b613-4af5-ab56-d35254e26ba5"
      },
      "execution_count": 25,
      "outputs": [
        {
          "output_type": "stream",
          "name": "stdout",
          "text": [
            "+--------+--------------------+---------------------+---------------+-------------+----------+------------------+------------+------------+------------+-----------+-----+-------+----------+------------+---------------------+------------+--------------------+-----------+------------------+\n",
            "|VendorID|tpep_pickup_datetime|tpep_dropoff_datetime|passenger_count|trip_distance|RatecodeID|store_and_fwd_flag|PULocationID|DOLocationID|payment_type|fare_amount|extra|mta_tax|tip_amount|tolls_amount|improvement_surcharge|total_amount|congestion_surcharge|Airport_fee|cbd_congestion_fee|\n",
            "+--------+--------------------+---------------------+---------------+-------------+----------+------------------+------------+------------+------------+-----------+-----+-------+----------+------------+---------------------+------------+--------------------+-----------+------------------+\n",
            "|       1| 2025-01-01 00:51:41|  2025-01-01 01:06:26|              1|          7.2|         1|                 N|         132|          95|           1|       29.6| 2.75|    0.5|      6.75|         0.0|                  1.0|        40.6|                 0.0|       1.75|               0.0|\n",
            "|       2| 2025-01-01 00:55:44|  2025-01-01 01:27:41|              1|        14.84|         1|                 N|         132|          89|           1|       59.0|  1.0|    0.5|      12.3|         0.0|                  1.0|       75.55|                 0.0|       1.75|               0.0|\n",
            "|       2| 2025-01-01 00:02:20|  2025-01-01 00:15:55|              1|         4.55|         1|                 N|         138|         146|           1|       19.8|  6.0|    0.5|      8.19|         0.0|                  1.0|       37.24|                 0.0|       1.75|               0.0|\n",
            "|       2| 2025-01-01 00:08:07|  2025-01-01 00:13:06|              1|         1.61|         1|                 N|         138|         138|           2|        9.3|  6.0|    0.5|       0.0|         0.0|                  1.0|       18.55|                 0.0|       1.75|               0.0|\n",
            "|       2| 2025-01-01 00:24:51|  2025-01-01 00:42:52|              2|         8.66|         1|                 N|         138|         256|           1|       35.2|  6.0|    0.5|      4.44|         0.0|                  1.0|       48.89|                 0.0|       1.75|               0.0|\n",
            "|       2| 2025-01-01 00:11:59|  2025-01-01 00:48:37|              2|         9.17|         1|                 N|         138|         186|           1|       48.5|  6.0|    0.5|     13.09|        6.94|                  1.0|       80.28|                 2.5|       1.75|               0.0|\n",
            "|       2| 2025-01-01 00:39:59|  2025-01-01 01:00:37|              1|         7.78|         1|                 N|         138|          36|           1|       33.8|  6.0|    0.5|      8.26|         0.0|                  1.0|       51.31|                 0.0|       1.75|               0.0|\n",
            "|       2| 2025-01-01 00:32:51|  2025-01-01 00:54:01|              1|         9.58|         1|                 N|         132|          77|           2|       39.4|  1.0|    0.5|       0.0|         0.0|                  1.0|       43.65|                 0.0|       1.75|               0.0|\n",
            "|       1| 2025-01-01 00:03:00|  2025-01-01 00:25:10|              2|         10.4|         1|                 N|         138|         162|           1|       40.8|10.25|    0.5|       0.0|        6.94|                  1.0|       59.49|                 2.5|       1.75|               0.0|\n",
            "|       2| 2025-01-01 00:09:22|  2025-01-01 00:20:00|              1|         6.09|         1|                 N|         138|         112|           2|       24.7|  6.0|    0.5|       0.0|         0.0|                  1.0|       33.95|                 0.0|       1.75|               0.0|\n",
            "|       1| 2025-01-01 00:23:05|  2025-01-01 00:56:38|              1|         22.0|         1|                 N|         132|         241|           2|       80.7| 2.75|    0.5|       0.0|        6.94|                  1.0|       91.89|                 0.0|       1.75|               0.0|\n",
            "|       2| 2025-01-01 00:17:04|  2025-01-01 00:39:02|              1|         9.82|         1|                 N|         132|         122|           2|       40.1|  1.0|    0.5|       0.0|         0.0|                  1.0|       44.35|                 0.0|       1.75|               0.0|\n",
            "|       2| 2025-01-01 00:01:41|  2025-01-01 00:15:29|              1|         7.15|         1|                 N|         138|          80|           1|       29.6|  6.0|    0.5|      40.0|         0.0|                  1.0|       78.85|                 0.0|       1.75|               0.0|\n",
            "|       2| 2025-01-01 00:36:08|  2025-01-01 00:54:52|              4|        11.86|         1|                 N|         138|         241|           1|       45.0|  6.0|    0.5|      30.0|        6.94|                  1.0|       91.19|                 0.0|       1.75|               0.0|\n",
            "|       2| 2025-01-01 00:03:30|  2025-01-01 00:16:37|              3|         5.81|         1|                 N|          70|          95|           1|       24.7|  6.0|    0.5|      6.44|         0.0|                  1.0|       40.39|                 0.0|       1.75|               0.0|\n",
            "|       2| 2025-01-01 00:39:58|  2025-01-01 01:01:26|              1|         8.02|         1|                 N|         138|         112|           1|       35.2|  6.0|    0.5|      8.54|         0.0|                  1.0|       52.99|                 0.0|       1.75|               0.0|\n",
            "|       1| 2025-01-01 00:24:10|  2025-01-01 00:32:36|              1|          3.2|         1|                 N|         138|           7|           1|       14.9| 7.75|    0.5|       6.0|         0.0|                  1.0|       30.15|                 0.0|       1.75|               0.0|\n",
            "|       1| 2025-01-01 00:47:18|  2025-01-01 01:00:47|              2|          8.9|         1|                 N|         138|         140|           1|       34.5|10.25|    0.5|      5.32|        6.94|                  1.0|       58.51|                 2.5|       1.75|               0.0|\n",
            "|       2| 2025-01-01 00:18:04|  2025-01-01 00:30:56|              1|         7.41|         1|                 N|         138|         217|           1|       30.3|  6.0|    0.5|      7.56|         0.0|                  1.0|       47.11|                 0.0|       1.75|               0.0|\n",
            "|       2| 2025-01-01 00:13:00|  2025-01-01 00:30:33|              1|         7.64|         1|                 N|         138|          36|           1|       32.4|  6.0|    0.5|       4.0|         0.0|                  1.0|       45.65|                 0.0|       1.75|               0.0|\n",
            "+--------+--------------------+---------------------+---------------+-------------+----------+------------------+------------+------------+------------+-----------+-----+-------+----------+------------+---------------------+------------+--------------------+-----------+------------------+\n",
            "only showing top 20 rows\n",
            "\n"
          ]
        }
      ]
    },
    {
      "cell_type": "code",
      "source": [
        "# Filter dataframe for two criteria\n",
        "df.filter('Airport_fee > 0 and passenger_count > 2').show()"
      ],
      "metadata": {
        "id": "IlyI8B2DTMhj",
        "colab": {
          "base_uri": "https://localhost:8080/"
        },
        "outputId": "d1cecfe5-ec84-40df-8fd5-2e6608ab1dab"
      },
      "execution_count": 26,
      "outputs": [
        {
          "output_type": "stream",
          "name": "stdout",
          "text": [
            "+--------+--------------------+---------------------+---------------+-------------+----------+------------------+------------+------------+------------+-----------+-----+-------+----------+------------+---------------------+------------+--------------------+-----------+------------------+\n",
            "|VendorID|tpep_pickup_datetime|tpep_dropoff_datetime|passenger_count|trip_distance|RatecodeID|store_and_fwd_flag|PULocationID|DOLocationID|payment_type|fare_amount|extra|mta_tax|tip_amount|tolls_amount|improvement_surcharge|total_amount|congestion_surcharge|Airport_fee|cbd_congestion_fee|\n",
            "+--------+--------------------+---------------------+---------------+-------------+----------+------------------+------------+------------+------------+-----------+-----+-------+----------+------------+---------------------+------------+--------------------+-----------+------------------+\n",
            "|       2| 2025-01-01 00:36:08|  2025-01-01 00:54:52|              4|        11.86|         1|                 N|         138|         241|           1|       45.0|  6.0|    0.5|      30.0|        6.94|                  1.0|       91.19|                 0.0|       1.75|               0.0|\n",
            "|       2| 2025-01-01 00:03:30|  2025-01-01 00:16:37|              3|         5.81|         1|                 N|          70|          95|           1|       24.7|  6.0|    0.5|      6.44|         0.0|                  1.0|       40.39|                 0.0|       1.75|               0.0|\n",
            "|       2| 2025-01-01 00:54:22|  2025-01-01 01:14:51|              4|          9.3|         4|                 N|         132|         265|           1|       47.1|  1.0|    0.5|      9.92|         0.0|                  1.0|       61.27|                 0.0|       1.75|               0.0|\n",
            "|       2| 2025-01-01 00:08:31|  2025-01-01 00:46:27|              3|        27.11|         4|                 N|         132|         265|           1|      123.4|  1.0|    0.5|     13.76|        9.94|                  1.0|      151.35|                 0.0|       1.75|               0.0|\n",
            "|       2| 2025-01-01 00:07:15|  2025-01-01 00:20:37|              3|         4.33|         1|                 N|         132|          10|           1|       20.5|  1.0|    0.5|       4.6|         0.0|                  1.0|       29.35|                 0.0|       1.75|               0.0|\n",
            "|       2| 2025-01-01 00:29:35|  2025-01-01 00:38:19|              3|         3.83|         1|                 N|         138|          92|           1|       17.0|  6.0|    0.5|      6.56|         0.0|                  1.0|       32.81|                 0.0|       1.75|               0.0|\n",
            "|       2| 2025-01-01 00:36:21|  2025-01-01 01:01:12|              3|        16.86|         1|                 N|         132|         242|           1|       63.2|  1.0|    0.5|     14.53|        6.94|                  1.0|       88.92|                 0.0|       1.75|               0.0|\n",
            "|       1| 2025-01-01 00:06:26|  2025-01-01 00:23:27|              3|          8.9|         1|                 N|          70|         151|           1|       35.9| 7.75|    0.5|      10.4|        6.94|                  1.0|       62.49|                 0.0|       1.75|               0.0|\n",
            "|       1| 2025-01-01 00:31:01|  2025-01-01 00:39:39|              4|          2.5|         1|                 N|         138|         223|           1|       13.5| 7.75|    0.5|       3.0|         0.0|                  1.0|       25.75|                 0.0|       1.75|               0.0|\n",
            "|       2| 2025-01-01 00:12:00|  2025-01-01 00:20:12|              4|         2.35|         1|                 N|         138|         129|           1|       11.4|  6.0|    0.5|      4.72|         0.0|                  1.0|       25.37|                 0.0|       1.75|               0.0|\n",
            "|       2| 2025-01-01 00:38:24|  2025-01-01 01:04:59|              4|        18.64|         2|                 N|         132|         262|           1|       70.0|  0.0|    0.5|      10.0|        6.94|                  1.0|       92.69|                 2.5|       1.75|               0.0|\n",
            "|       2| 2025-01-01 00:17:57|  2025-01-01 00:54:58|              4|        14.36|         1|                 N|         138|          68|           1|       59.7|  6.0|    0.5|       5.0|        6.94|                  1.0|       83.39|                 2.5|       1.75|               0.0|\n",
            "|       2| 2025-01-01 00:06:11|  2025-01-01 00:38:05|              4|        19.59|         1|                 N|         132|          49|           1|       73.0|  1.0|    0.5|      25.0|         0.0|                  1.0|      102.25|                 0.0|       1.75|               0.0|\n",
            "|       1| 2025-01-01 00:02:29|  2025-01-01 00:38:23|              3|         20.1|         2|                 N|         132|         151|           1|       70.0| 1.75|    0.5|      16.0|        6.94|                  1.0|       96.19|                 0.0|       1.75|               0.0|\n",
            "|       2| 2025-01-01 00:11:24|  2025-01-01 00:26:33|              3|         9.35|         1|                 N|         138|         248|           1|       35.9|  6.0|    0.5|     10.07|        6.94|                  1.0|       62.16|                 0.0|       1.75|               0.0|\n",
            "|       2| 2025-01-01 00:16:39|  2025-01-01 00:27:34|              3|         6.92|         1|                 N|         132|          28|           2|       27.5|  1.0|    0.5|       0.0|         0.0|                  1.0|       31.75|                 0.0|       1.75|               0.0|\n",
            "|       2| 2025-01-01 00:06:57|  2025-01-01 00:25:01|              3|          9.9|         1|                 N|         138|         243|           1|       39.4|  6.0|    0.5|     13.46|        6.94|                  1.0|       69.05|                 0.0|       1.75|               0.0|\n",
            "|       1| 2025-01-01 00:17:18|  2025-01-01 00:42:14|              4|         13.0|         1|                 N|         138|         181|           1|       51.3| 7.75|    0.5|      9.08|         0.0|                  1.0|       69.63|                 0.0|       1.75|               0.0|\n",
            "|       2| 2025-01-01 00:07:58|  2025-01-01 00:30:21|              3|        10.72|         1|                 N|         132|          92|           1|       42.9|  1.0|    0.5|      0.01|         0.0|                  1.0|       47.16|                 0.0|       1.75|               0.0|\n",
            "|       2| 2025-01-01 00:07:12|  2025-01-01 00:35:24|              4|        18.63|         2|                 N|         132|         263|           2|       70.0|  0.0|    0.5|       0.0|        6.94|                  1.0|       82.69|                 2.5|       1.75|               0.0|\n",
            "+--------+--------------------+---------------------+---------------+-------------+----------+------------------+------------+------------+------------+-----------+-----+-------+----------+------------+---------------------+------------+--------------------+-----------+------------------+\n",
            "only showing top 20 rows\n",
            "\n"
          ]
        }
      ]
    },
    {
      "cell_type": "code",
      "source": [
        "# Filter the dataframe and retrieve only three columns\n",
        "df.filter('Airport_fee > 0 and passenger_count > 2').select('VendorID', 'passenger_count', 'total_amount').show()"
      ],
      "metadata": {
        "id": "ZN_EUi9nTOvs",
        "colab": {
          "base_uri": "https://localhost:8080/"
        },
        "outputId": "11c61b57-a390-4612-e4a2-5fefb8a72a46"
      },
      "execution_count": 27,
      "outputs": [
        {
          "output_type": "stream",
          "name": "stdout",
          "text": [
            "+--------+---------------+------------+\n",
            "|VendorID|passenger_count|total_amount|\n",
            "+--------+---------------+------------+\n",
            "|       2|              4|       91.19|\n",
            "|       2|              3|       40.39|\n",
            "|       2|              4|       61.27|\n",
            "|       2|              3|      151.35|\n",
            "|       2|              3|       29.35|\n",
            "|       2|              3|       32.81|\n",
            "|       2|              3|       88.92|\n",
            "|       1|              3|       62.49|\n",
            "|       1|              4|       25.75|\n",
            "|       2|              4|       25.37|\n",
            "|       2|              4|       92.69|\n",
            "|       2|              4|       83.39|\n",
            "|       2|              4|      102.25|\n",
            "|       1|              3|       96.19|\n",
            "|       2|              3|       62.16|\n",
            "|       2|              3|       31.75|\n",
            "|       2|              3|       69.05|\n",
            "|       1|              4|       69.63|\n",
            "|       2|              3|       47.16|\n",
            "|       2|              4|       82.69|\n",
            "+--------+---------------+------------+\n",
            "only showing top 20 rows\n",
            "\n"
          ]
        }
      ]
    },
    {
      "cell_type": "markdown",
      "source": [
        "# Challenge solution: Querying a dataframe"
      ],
      "metadata": {
        "id": "jPA5-qDJTReS"
      }
    },
    {
      "cell_type": "code",
      "source": [
        "# Chaining filter, select, and sort and then displaying the result\n",
        "df.filter('Airport_fee = 0 and passenger_count > 2')\\\n",
        ".select('VendorID', 'passenger_count', 'total_amount')\\\n",
        ".sort('passenger_count', ascending=False)\\\n",
        ".show()"
      ],
      "metadata": {
        "id": "Y0m6bUvnTQ1q",
        "colab": {
          "base_uri": "https://localhost:8080/"
        },
        "outputId": "b986e7e8-b9ca-4aaa-c1aa-f85010599227"
      },
      "execution_count": 41,
      "outputs": [
        {
          "output_type": "stream",
          "name": "stdout",
          "text": [
            "+--------+---------------+------------+\n",
            "|VendorID|passenger_count|total_amount|\n",
            "+--------+---------------+------------+\n",
            "|       2|              9|      111.32|\n",
            "|       2|              9|       101.0|\n",
            "|       2|              9|       107.5|\n",
            "|       2|              8|       102.0|\n",
            "|       2|              8|        86.0|\n",
            "|       2|              8|        81.0|\n",
            "|       2|              8|        81.0|\n",
            "|       2|              7|       74.25|\n",
            "|       2|              7|       100.5|\n",
            "|       2|              6|       19.35|\n",
            "|       2|              6|        22.2|\n",
            "|       2|              6|       21.54|\n",
            "|       2|              6|        42.0|\n",
            "|       2|              6|       34.69|\n",
            "|       1|              6|        21.3|\n",
            "|       1|              6|        20.0|\n",
            "|       2|              6|       23.69|\n",
            "|       2|              6|       24.06|\n",
            "|       2|              6|       23.88|\n",
            "|       2|              6|       14.82|\n",
            "+--------+---------------+------------+\n",
            "only showing top 20 rows\n",
            "\n"
          ]
        }
      ]
    },
    {
      "cell_type": "markdown",
      "source": [
        "# Handling missing data"
      ],
      "metadata": {
        "id": "oUTXFh6vs_Cx"
      }
    },
    {
      "cell_type": "code",
      "source": [
        "# Import functions for finding missing data\n",
        "from pyspark.sql.functions import col, isnull"
      ],
      "metadata": {
        "id": "dvTcugo4TlHT"
      },
      "execution_count": 29,
      "outputs": []
    },
    {
      "cell_type": "code",
      "source": [
        "# Count the number of NULL fare_amount values\n",
        "df.filter(isnull(col('fare_amount'))).count()"
      ],
      "metadata": {
        "id": "jcHrtr6WtDyq",
        "colab": {
          "base_uri": "https://localhost:8080/"
        },
        "outputId": "30978f60-4522-4eac-b304-ff7f4279445a"
      },
      "execution_count": 30,
      "outputs": [
        {
          "output_type": "execute_result",
          "data": {
            "text/plain": [
              "0"
            ]
          },
          "metadata": {},
          "execution_count": 30
        }
      ]
    },
    {
      "cell_type": "code",
      "source": [
        "# Count the number of NULL passenger_count values\n",
        "df.filter(isnull(col('passenger_count'))).count()"
      ],
      "metadata": {
        "id": "tK0NMbZZtN-E",
        "colab": {
          "base_uri": "https://localhost:8080/"
        },
        "outputId": "4721ceb6-e65b-4b5b-ede7-6d90a1a406b0"
      },
      "execution_count": 31,
      "outputs": [
        {
          "output_type": "execute_result",
          "data": {
            "text/plain": [
              "540149"
            ]
          },
          "metadata": {},
          "execution_count": 31
        }
      ]
    },
    {
      "cell_type": "code",
      "source": [
        "# Backfill all NULL fields with 1\n",
        "df1 = df.fillna({'passenger_count': 1})"
      ],
      "metadata": {
        "id": "ttRAwughtSwc"
      },
      "execution_count": 33,
      "outputs": []
    },
    {
      "cell_type": "code",
      "source": [
        "# Show df1\n",
        "df1.show()"
      ],
      "metadata": {
        "id": "L5PzQvFctVS5",
        "colab": {
          "base_uri": "https://localhost:8080/"
        },
        "outputId": "49559d4a-ea49-481a-d154-fbd128ca7dc0"
      },
      "execution_count": 34,
      "outputs": [
        {
          "output_type": "stream",
          "name": "stdout",
          "text": [
            "+--------+--------------------+---------------------+---------------+-------------+----------+------------------+------------+------------+------------+-----------+-----+-------+----------+------------+---------------------+------------+--------------------+-----------+------------------+\n",
            "|VendorID|tpep_pickup_datetime|tpep_dropoff_datetime|passenger_count|trip_distance|RatecodeID|store_and_fwd_flag|PULocationID|DOLocationID|payment_type|fare_amount|extra|mta_tax|tip_amount|tolls_amount|improvement_surcharge|total_amount|congestion_surcharge|Airport_fee|cbd_congestion_fee|\n",
            "+--------+--------------------+---------------------+---------------+-------------+----------+------------------+------------+------------+------------+-----------+-----+-------+----------+------------+---------------------+------------+--------------------+-----------+------------------+\n",
            "|       1| 2025-01-01 00:18:38|  2025-01-01 00:26:59|              1|          1.6|         1|                 N|         229|         237|           1|       10.0|  3.5|    0.5|       3.0|         0.0|                  1.0|        18.0|                 2.5|        0.0|               0.0|\n",
            "|       1| 2025-01-01 00:32:40|  2025-01-01 00:35:13|              1|          0.5|         1|                 N|         236|         237|           1|        5.1|  3.5|    0.5|      2.02|         0.0|                  1.0|       12.12|                 2.5|        0.0|               0.0|\n",
            "|       1| 2025-01-01 00:44:04|  2025-01-01 00:46:01|              1|          0.6|         1|                 N|         141|         141|           1|        5.1|  3.5|    0.5|       2.0|         0.0|                  1.0|        12.1|                 2.5|        0.0|               0.0|\n",
            "|       2| 2025-01-01 00:14:27|  2025-01-01 00:20:01|              3|         0.52|         1|                 N|         244|         244|           2|        7.2|  1.0|    0.5|       0.0|         0.0|                  1.0|         9.7|                 0.0|        0.0|               0.0|\n",
            "|       2| 2025-01-01 00:21:34|  2025-01-01 00:25:06|              3|         0.66|         1|                 N|         244|         116|           2|        5.8|  1.0|    0.5|       0.0|         0.0|                  1.0|         8.3|                 0.0|        0.0|               0.0|\n",
            "|       2| 2025-01-01 00:48:24|  2025-01-01 01:08:26|              2|         2.63|         1|                 N|         239|          68|           2|       19.1|  1.0|    0.5|       0.0|         0.0|                  1.0|        24.1|                 2.5|        0.0|               0.0|\n",
            "|       1| 2025-01-01 00:14:47|  2025-01-01 00:16:15|              0|          0.4|         1|                 N|         170|         170|           1|        4.4|  3.5|    0.5|      2.35|         0.0|                  1.0|       11.75|                 2.5|        0.0|               0.0|\n",
            "|       1| 2025-01-01 00:39:27|  2025-01-01 00:51:51|              0|          1.6|         1|                 N|         234|         148|           1|       12.1|  3.5|    0.5|       2.0|         0.0|                  1.0|        19.1|                 2.5|        0.0|               0.0|\n",
            "|       1| 2025-01-01 00:53:43|  2025-01-01 01:13:23|              0|          2.8|         1|                 N|         148|         170|           1|       19.1|  3.5|    0.5|       3.0|         0.0|                  1.0|        27.1|                 2.5|        0.0|               0.0|\n",
            "|       2| 2025-01-01 00:00:02|  2025-01-01 00:09:36|              1|         1.71|         1|                 N|         237|         262|           2|       11.4|  1.0|    0.5|       0.0|         0.0|                  1.0|        16.4|                 2.5|        0.0|               0.0|\n",
            "|       2| 2025-01-01 00:20:28|  2025-01-01 00:28:04|              1|         2.29|         1|                 N|         237|          75|           2|       11.4|  1.0|    0.5|       0.0|         0.0|                  1.0|        16.4|                 2.5|        0.0|               0.0|\n",
            "|       2| 2025-01-01 00:33:58|  2025-01-01 00:37:23|              1|         0.56|         1|                 N|         263|         236|           1|        5.8|  1.0|    0.5|      2.16|         0.0|                  1.0|       12.96|                 2.5|        0.0|               0.0|\n",
            "|       2| 2025-01-01 00:42:40|  2025-01-01 00:55:38|              3|         1.99|         1|                 N|         236|         151|           2|       14.2|  1.0|    0.5|       0.0|         0.0|                  1.0|        19.2|                 2.5|        0.0|               0.0|\n",
            "|       1| 2025-01-01 00:30:07|  2025-01-01 00:36:48|              1|          1.1|         1|                 N|         229|         141|           2|        7.9|  3.5|    0.5|       0.0|         0.0|                  1.0|        12.9|                 2.5|        0.0|               0.0|\n",
            "|       1| 2025-01-01 00:39:55|  2025-01-01 01:13:59|              1|          3.2|         1|                 N|         141|         113|           1|       26.1|  3.5|    0.5|       7.8|         0.0|                  1.0|        38.9|                 2.5|        0.0|               0.0|\n",
            "|       1| 2025-01-01 00:16:54|  2025-01-01 00:35:12|              3|          2.5|         1|                 N|         158|         170|           2|       17.7|  3.5|    0.5|       0.0|         0.0|                  1.0|        22.7|                 2.5|        0.0|               0.0|\n",
            "|       1| 2025-01-01 00:43:10|  2025-01-01 01:00:03|              1|          1.9|         1|                 N|         164|         229|           1|       16.3|  3.5|    0.5|      4.25|         0.0|                  1.0|       25.55|                 2.5|        0.0|               0.0|\n",
            "|       2| 2025-01-01 00:01:41|  2025-01-01 00:07:14|              1|         0.71|         1|                 N|          79|         107|           2|       -7.2| -1.0|   -0.5|      3.66|         0.0|                 -1.0|       -8.54|                -2.5|        0.0|               0.0|\n",
            "|       2| 2025-01-01 00:01:41|  2025-01-01 00:07:14|              1|         0.71|         1|                 N|          79|         107|           2|        7.2|  1.0|    0.5|       0.0|         0.0|                  1.0|        12.2|                 2.5|        0.0|               0.0|\n",
            "|       1| 2025-01-01 00:33:12|  2025-01-01 00:50:14|              2|          1.2|         1|                 N|         246|          90|           1|       15.6|  3.5|    0.5|       0.0|         0.0|                  1.0|        20.6|                 2.5|        0.0|               0.0|\n",
            "+--------+--------------------+---------------------+---------------+-------------+----------+------------------+------------+------------+------------+-----------+-----+-------+----------+------------+---------------------+------------+--------------------+-----------+------------------+\n",
            "only showing top 20 rows\n",
            "\n"
          ]
        }
      ]
    },
    {
      "cell_type": "code",
      "source": [
        "#Check number of NULL passenger_count values again\n",
        "df1.filter(isnull(col('passenger_count'))).count()"
      ],
      "metadata": {
        "id": "fnZPJQubtd1G",
        "colab": {
          "base_uri": "https://localhost:8080/"
        },
        "outputId": "296ee2dc-a0ba-4381-cbd6-e1eff152d2a1"
      },
      "execution_count": 35,
      "outputs": [
        {
          "output_type": "execute_result",
          "data": {
            "text/plain": [
              "0"
            ]
          },
          "metadata": {},
          "execution_count": 35
        }
      ]
    },
    {
      "cell_type": "markdown",
      "source": [
        "# Creating new dataframes and columns"
      ],
      "metadata": {
        "id": "MoAhIvP5th3L"
      }
    },
    {
      "cell_type": "code",
      "source": [
        "# Import timestamp function and rounding function\n",
        "from pyspark.sql.functions import unix_timestamp, round"
      ],
      "metadata": {
        "id": "iW4ozg0VthTN"
      },
      "execution_count": 36,
      "outputs": []
    },
    {
      "cell_type": "code",
      "source": [
        "# Create a new column with the calculated trip duration in minutes\n",
        "df1 = df.withColumn(\n",
        "'trip_duration_minutes',\n",
        "round(\n",
        "(unix_timestamp('tpep_dropoff_datetime') - unix_timestamp('tpep_pickup_datetime') ) / 60,\n",
        "1)\n",
        ")"
      ],
      "metadata": {
        "id": "dr2jxvFJtnot"
      },
      "execution_count": 37,
      "outputs": []
    },
    {
      "cell_type": "code",
      "source": [
        "# Renaming columns\n",
        "df2 = df1.select('tpep_pickup_datetime', 'tpep_dropoff_datetime', \\\n",
        "                 'trip_duration_minutes', 'PULocationID', 'DOLocationID', \\\n",
        "                 'passenger_count', 'fare_amount', 'Airport_fee', 'total_amount',).\\\n",
        "withColumnsRenamed({'tpep_pickup_datetime': 'pu_datetime',\n",
        "                    'tpep_dropoff_datetime': 'do_datetime', \\\n",
        "                    'PULocationID': 'pu_location_id', \\\n",
        "                    'DOLocationID': 'do_location_id', \\\n",
        "                    'Airport_fee' : 'airport_fee'}\n",
        "                   )"
      ],
      "metadata": {
        "id": "4pK8pJQxyzRF"
      },
      "execution_count": 43,
      "outputs": []
    },
    {
      "cell_type": "code",
      "source": [
        "# Show df2\n",
        "df2.show()"
      ],
      "metadata": {
        "id": "jMmnbzR9zClc",
        "colab": {
          "base_uri": "https://localhost:8080/"
        },
        "outputId": "c8683ad2-dd63-49b4-aaef-49ec9816852a"
      },
      "execution_count": 44,
      "outputs": [
        {
          "output_type": "stream",
          "name": "stdout",
          "text": [
            "+-------------------+-------------------+---------------------+--------------+--------------+---------------+-----------+-----------+------------+\n",
            "|        pu_datetime|        do_datetime|trip_duration_minutes|pu_location_id|do_location_id|passenger_count|fare_amount|airport_fee|total_amount|\n",
            "+-------------------+-------------------+---------------------+--------------+--------------+---------------+-----------+-----------+------------+\n",
            "|2025-01-01 00:18:38|2025-01-01 00:26:59|                  8.4|           229|           237|              1|       10.0|        0.0|        18.0|\n",
            "|2025-01-01 00:32:40|2025-01-01 00:35:13|                  2.6|           236|           237|              1|        5.1|        0.0|       12.12|\n",
            "|2025-01-01 00:44:04|2025-01-01 00:46:01|                  2.0|           141|           141|              1|        5.1|        0.0|        12.1|\n",
            "|2025-01-01 00:14:27|2025-01-01 00:20:01|                  5.6|           244|           244|              3|        7.2|        0.0|         9.7|\n",
            "|2025-01-01 00:21:34|2025-01-01 00:25:06|                  3.5|           244|           116|              3|        5.8|        0.0|         8.3|\n",
            "|2025-01-01 00:48:24|2025-01-01 01:08:26|                 20.0|           239|            68|              2|       19.1|        0.0|        24.1|\n",
            "|2025-01-01 00:14:47|2025-01-01 00:16:15|                  1.5|           170|           170|              0|        4.4|        0.0|       11.75|\n",
            "|2025-01-01 00:39:27|2025-01-01 00:51:51|                 12.4|           234|           148|              0|       12.1|        0.0|        19.1|\n",
            "|2025-01-01 00:53:43|2025-01-01 01:13:23|                 19.7|           148|           170|              0|       19.1|        0.0|        27.1|\n",
            "|2025-01-01 00:00:02|2025-01-01 00:09:36|                  9.6|           237|           262|              1|       11.4|        0.0|        16.4|\n",
            "|2025-01-01 00:20:28|2025-01-01 00:28:04|                  7.6|           237|            75|              1|       11.4|        0.0|        16.4|\n",
            "|2025-01-01 00:33:58|2025-01-01 00:37:23|                  3.4|           263|           236|              1|        5.8|        0.0|       12.96|\n",
            "|2025-01-01 00:42:40|2025-01-01 00:55:38|                 13.0|           236|           151|              3|       14.2|        0.0|        19.2|\n",
            "|2025-01-01 00:30:07|2025-01-01 00:36:48|                  6.7|           229|           141|              1|        7.9|        0.0|        12.9|\n",
            "|2025-01-01 00:39:55|2025-01-01 01:13:59|                 34.1|           141|           113|              1|       26.1|        0.0|        38.9|\n",
            "|2025-01-01 00:16:54|2025-01-01 00:35:12|                 18.3|           158|           170|              3|       17.7|        0.0|        22.7|\n",
            "|2025-01-01 00:43:10|2025-01-01 01:00:03|                 16.9|           164|           229|              1|       16.3|        0.0|       25.55|\n",
            "|2025-01-01 00:01:41|2025-01-01 00:07:14|                  5.6|            79|           107|              1|       -7.2|        0.0|       -8.54|\n",
            "|2025-01-01 00:01:41|2025-01-01 00:07:14|                  5.6|            79|           107|              1|        7.2|        0.0|        12.2|\n",
            "|2025-01-01 00:33:12|2025-01-01 00:50:14|                 17.0|           246|            90|              2|       15.6|        0.0|        20.6|\n",
            "+-------------------+-------------------+---------------------+--------------+--------------+---------------+-----------+-----------+------------+\n",
            "only showing top 20 rows\n",
            "\n"
          ]
        }
      ]
    },
    {
      "cell_type": "code",
      "source": [
        "# Drop two columns - remember, df1 is immutable, so this only drops from the visible output\n",
        "df1.drop('VendorID', 'RatecodeID').show()"
      ],
      "metadata": {
        "id": "vceFI6LIzEau",
        "colab": {
          "base_uri": "https://localhost:8080/"
        },
        "outputId": "d5df0dcc-c353-415f-d794-6c0d25c934e4"
      },
      "execution_count": 45,
      "outputs": [
        {
          "output_type": "stream",
          "name": "stdout",
          "text": [
            "+--------------------+---------------------+---------------+-------------+------------------+------------+------------+------------+-----------+-----+-------+----------+------------+---------------------+------------+--------------------+-----------+------------------+---------------------+\n",
            "|tpep_pickup_datetime|tpep_dropoff_datetime|passenger_count|trip_distance|store_and_fwd_flag|PULocationID|DOLocationID|payment_type|fare_amount|extra|mta_tax|tip_amount|tolls_amount|improvement_surcharge|total_amount|congestion_surcharge|Airport_fee|cbd_congestion_fee|trip_duration_minutes|\n",
            "+--------------------+---------------------+---------------+-------------+------------------+------------+------------+------------+-----------+-----+-------+----------+------------+---------------------+------------+--------------------+-----------+------------------+---------------------+\n",
            "| 2025-01-01 00:18:38|  2025-01-01 00:26:59|              1|          1.6|                 N|         229|         237|           1|       10.0|  3.5|    0.5|       3.0|         0.0|                  1.0|        18.0|                 2.5|        0.0|               0.0|                  8.4|\n",
            "| 2025-01-01 00:32:40|  2025-01-01 00:35:13|              1|          0.5|                 N|         236|         237|           1|        5.1|  3.5|    0.5|      2.02|         0.0|                  1.0|       12.12|                 2.5|        0.0|               0.0|                  2.6|\n",
            "| 2025-01-01 00:44:04|  2025-01-01 00:46:01|              1|          0.6|                 N|         141|         141|           1|        5.1|  3.5|    0.5|       2.0|         0.0|                  1.0|        12.1|                 2.5|        0.0|               0.0|                  2.0|\n",
            "| 2025-01-01 00:14:27|  2025-01-01 00:20:01|              3|         0.52|                 N|         244|         244|           2|        7.2|  1.0|    0.5|       0.0|         0.0|                  1.0|         9.7|                 0.0|        0.0|               0.0|                  5.6|\n",
            "| 2025-01-01 00:21:34|  2025-01-01 00:25:06|              3|         0.66|                 N|         244|         116|           2|        5.8|  1.0|    0.5|       0.0|         0.0|                  1.0|         8.3|                 0.0|        0.0|               0.0|                  3.5|\n",
            "| 2025-01-01 00:48:24|  2025-01-01 01:08:26|              2|         2.63|                 N|         239|          68|           2|       19.1|  1.0|    0.5|       0.0|         0.0|                  1.0|        24.1|                 2.5|        0.0|               0.0|                 20.0|\n",
            "| 2025-01-01 00:14:47|  2025-01-01 00:16:15|              0|          0.4|                 N|         170|         170|           1|        4.4|  3.5|    0.5|      2.35|         0.0|                  1.0|       11.75|                 2.5|        0.0|               0.0|                  1.5|\n",
            "| 2025-01-01 00:39:27|  2025-01-01 00:51:51|              0|          1.6|                 N|         234|         148|           1|       12.1|  3.5|    0.5|       2.0|         0.0|                  1.0|        19.1|                 2.5|        0.0|               0.0|                 12.4|\n",
            "| 2025-01-01 00:53:43|  2025-01-01 01:13:23|              0|          2.8|                 N|         148|         170|           1|       19.1|  3.5|    0.5|       3.0|         0.0|                  1.0|        27.1|                 2.5|        0.0|               0.0|                 19.7|\n",
            "| 2025-01-01 00:00:02|  2025-01-01 00:09:36|              1|         1.71|                 N|         237|         262|           2|       11.4|  1.0|    0.5|       0.0|         0.0|                  1.0|        16.4|                 2.5|        0.0|               0.0|                  9.6|\n",
            "| 2025-01-01 00:20:28|  2025-01-01 00:28:04|              1|         2.29|                 N|         237|          75|           2|       11.4|  1.0|    0.5|       0.0|         0.0|                  1.0|        16.4|                 2.5|        0.0|               0.0|                  7.6|\n",
            "| 2025-01-01 00:33:58|  2025-01-01 00:37:23|              1|         0.56|                 N|         263|         236|           1|        5.8|  1.0|    0.5|      2.16|         0.0|                  1.0|       12.96|                 2.5|        0.0|               0.0|                  3.4|\n",
            "| 2025-01-01 00:42:40|  2025-01-01 00:55:38|              3|         1.99|                 N|         236|         151|           2|       14.2|  1.0|    0.5|       0.0|         0.0|                  1.0|        19.2|                 2.5|        0.0|               0.0|                 13.0|\n",
            "| 2025-01-01 00:30:07|  2025-01-01 00:36:48|              1|          1.1|                 N|         229|         141|           2|        7.9|  3.5|    0.5|       0.0|         0.0|                  1.0|        12.9|                 2.5|        0.0|               0.0|                  6.7|\n",
            "| 2025-01-01 00:39:55|  2025-01-01 01:13:59|              1|          3.2|                 N|         141|         113|           1|       26.1|  3.5|    0.5|       7.8|         0.0|                  1.0|        38.9|                 2.5|        0.0|               0.0|                 34.1|\n",
            "| 2025-01-01 00:16:54|  2025-01-01 00:35:12|              3|          2.5|                 N|         158|         170|           2|       17.7|  3.5|    0.5|       0.0|         0.0|                  1.0|        22.7|                 2.5|        0.0|               0.0|                 18.3|\n",
            "| 2025-01-01 00:43:10|  2025-01-01 01:00:03|              1|          1.9|                 N|         164|         229|           1|       16.3|  3.5|    0.5|      4.25|         0.0|                  1.0|       25.55|                 2.5|        0.0|               0.0|                 16.9|\n",
            "| 2025-01-01 00:01:41|  2025-01-01 00:07:14|              1|         0.71|                 N|          79|         107|           2|       -7.2| -1.0|   -0.5|      3.66|         0.0|                 -1.0|       -8.54|                -2.5|        0.0|               0.0|                  5.6|\n",
            "| 2025-01-01 00:01:41|  2025-01-01 00:07:14|              1|         0.71|                 N|          79|         107|           2|        7.2|  1.0|    0.5|       0.0|         0.0|                  1.0|        12.2|                 2.5|        0.0|               0.0|                  5.6|\n",
            "| 2025-01-01 00:33:12|  2025-01-01 00:50:14|              2|          1.2|                 N|         246|          90|           1|       15.6|  3.5|    0.5|       0.0|         0.0|                  1.0|        20.6|                 2.5|        0.0|               0.0|                 17.0|\n",
            "+--------------------+---------------------+---------------+-------------+------------------+------------+------------+------------+-----------+-----+-------+----------+------------+---------------------+------------+--------------------+-----------+------------------+---------------------+\n",
            "only showing top 20 rows\n",
            "\n"
          ]
        }
      ]
    },
    {
      "cell_type": "markdown",
      "source": [
        "# Unions and joins"
      ],
      "metadata": {
        "id": "ircvo5pOzUe9"
      }
    },
    {
      "cell_type": "code",
      "source": [
        "# Create new dataframe with February data\n",
        "df_feb = spark.read.parquet('/content/drive/MyDrive/pyspark_training/yellow_tripdata_2025-02.parquet')"
      ],
      "metadata": {
        "id": "YhDXNwH_zWGF"
      },
      "execution_count": 46,
      "outputs": []
    },
    {
      "cell_type": "code",
      "source": [
        "# Assign unioned dataframe to new dataframe\n",
        "df_2025 = df.union(df_feb)"
      ],
      "metadata": {
        "id": "gaH5oyuRzZOv"
      },
      "execution_count": 47,
      "outputs": []
    },
    {
      "cell_type": "code",
      "source": [
        "# Record count\n",
        "df_2025.count()"
      ],
      "metadata": {
        "id": "Q59AxLryzjPs",
        "colab": {
          "base_uri": "https://localhost:8080/"
        },
        "outputId": "b4a28c9e-8e6a-4860-bae8-76d926265bd0"
      },
      "execution_count": 48,
      "outputs": [
        {
          "output_type": "execute_result",
          "data": {
            "text/plain": [
              "7052769"
            ]
          },
          "metadata": {},
          "execution_count": 48
        }
      ]
    },
    {
      "cell_type": "code",
      "source": [
        "# Load new dataset\n",
        "taxi_zone_lookup = spark.read.option('header', 'true').csv('/content/drive/MyDrive/pyspark_training/taxi_zone_lookup.csv')"
      ],
      "metadata": {
        "id": "GZa4qHT3zmTl"
      },
      "execution_count": 49,
      "outputs": []
    },
    {
      "cell_type": "code",
      "source": [
        "# Show new dataset\n",
        "taxi_zone_lookup.show()"
      ],
      "metadata": {
        "id": "OGI4aVJwzpUf",
        "colab": {
          "base_uri": "https://localhost:8080/"
        },
        "outputId": "3a14b6b4-a622-4b55-ec8b-2aae6593e420"
      },
      "execution_count": 50,
      "outputs": [
        {
          "output_type": "stream",
          "name": "stdout",
          "text": [
            "+----------+-------------+--------------------+------------+\n",
            "|LocationID|      Borough|                Zone|service_zone|\n",
            "+----------+-------------+--------------------+------------+\n",
            "|         1|          EWR|      Newark Airport|         EWR|\n",
            "|         2|       Queens|         Jamaica Bay|   Boro Zone|\n",
            "|         3|        Bronx|Allerton/Pelham G...|   Boro Zone|\n",
            "|         4|    Manhattan|       Alphabet City| Yellow Zone|\n",
            "|         5|Staten Island|       Arden Heights|   Boro Zone|\n",
            "|         6|Staten Island|Arrochar/Fort Wad...|   Boro Zone|\n",
            "|         7|       Queens|             Astoria|   Boro Zone|\n",
            "|         8|       Queens|        Astoria Park|   Boro Zone|\n",
            "|         9|       Queens|          Auburndale|   Boro Zone|\n",
            "|        10|       Queens|        Baisley Park|   Boro Zone|\n",
            "|        11|     Brooklyn|          Bath Beach|   Boro Zone|\n",
            "|        12|    Manhattan|        Battery Park| Yellow Zone|\n",
            "|        13|    Manhattan|   Battery Park City| Yellow Zone|\n",
            "|        14|     Brooklyn|           Bay Ridge|   Boro Zone|\n",
            "|        15|       Queens|Bay Terrace/Fort ...|   Boro Zone|\n",
            "|        16|       Queens|             Bayside|   Boro Zone|\n",
            "|        17|     Brooklyn|             Bedford|   Boro Zone|\n",
            "|        18|        Bronx|        Bedford Park|   Boro Zone|\n",
            "|        19|       Queens|           Bellerose|   Boro Zone|\n",
            "|        20|        Bronx|             Belmont|   Boro Zone|\n",
            "+----------+-------------+--------------------+------------+\n",
            "only showing top 20 rows\n",
            "\n"
          ]
        }
      ]
    },
    {
      "cell_type": "code",
      "source": [
        "# Join dataframes on the LocationID columns\n",
        "df_joined = df_2025.join(taxi_zone_lookup, df_2025.PULocationID == taxi_zone_lookup.LocationID, 'left')\n",
        "df_joined.show()"
      ],
      "metadata": {
        "id": "fQLPEYnezsw-",
        "colab": {
          "base_uri": "https://localhost:8080/"
        },
        "outputId": "63e66c79-470f-405a-8598-861f3f75d761"
      },
      "execution_count": 51,
      "outputs": [
        {
          "output_type": "stream",
          "name": "stdout",
          "text": [
            "+--------+--------------------+---------------------+---------------+-------------+----------+------------------+------------+------------+------------+-----------+-----+-------+----------+------------+---------------------+------------+--------------------+-----------+------------------+----------+---------+--------------------+------------+\n",
            "|VendorID|tpep_pickup_datetime|tpep_dropoff_datetime|passenger_count|trip_distance|RatecodeID|store_and_fwd_flag|PULocationID|DOLocationID|payment_type|fare_amount|extra|mta_tax|tip_amount|tolls_amount|improvement_surcharge|total_amount|congestion_surcharge|Airport_fee|cbd_congestion_fee|LocationID|  Borough|                Zone|service_zone|\n",
            "+--------+--------------------+---------------------+---------------+-------------+----------+------------------+------------+------------+------------+-----------+-----+-------+----------+------------+---------------------+------------+--------------------+-----------+------------------+----------+---------+--------------------+------------+\n",
            "|       1| 2025-01-01 00:18:38|  2025-01-01 00:26:59|              1|          1.6|         1|                 N|         229|         237|           1|       10.0|  3.5|    0.5|       3.0|         0.0|                  1.0|        18.0|                 2.5|        0.0|               0.0|       229|Manhattan|Sutton Place/Turt...| Yellow Zone|\n",
            "|       1| 2025-01-01 00:32:40|  2025-01-01 00:35:13|              1|          0.5|         1|                 N|         236|         237|           1|        5.1|  3.5|    0.5|      2.02|         0.0|                  1.0|       12.12|                 2.5|        0.0|               0.0|       236|Manhattan|Upper East Side N...| Yellow Zone|\n",
            "|       1| 2025-01-01 00:44:04|  2025-01-01 00:46:01|              1|          0.6|         1|                 N|         141|         141|           1|        5.1|  3.5|    0.5|       2.0|         0.0|                  1.0|        12.1|                 2.5|        0.0|               0.0|       141|Manhattan|     Lenox Hill West| Yellow Zone|\n",
            "|       2| 2025-01-01 00:14:27|  2025-01-01 00:20:01|              3|         0.52|         1|                 N|         244|         244|           2|        7.2|  1.0|    0.5|       0.0|         0.0|                  1.0|         9.7|                 0.0|        0.0|               0.0|       244|Manhattan|Washington Height...|   Boro Zone|\n",
            "|       2| 2025-01-01 00:21:34|  2025-01-01 00:25:06|              3|         0.66|         1|                 N|         244|         116|           2|        5.8|  1.0|    0.5|       0.0|         0.0|                  1.0|         8.3|                 0.0|        0.0|               0.0|       244|Manhattan|Washington Height...|   Boro Zone|\n",
            "|       2| 2025-01-01 00:48:24|  2025-01-01 01:08:26|              2|         2.63|         1|                 N|         239|          68|           2|       19.1|  1.0|    0.5|       0.0|         0.0|                  1.0|        24.1|                 2.5|        0.0|               0.0|       239|Manhattan|Upper West Side S...| Yellow Zone|\n",
            "|       1| 2025-01-01 00:14:47|  2025-01-01 00:16:15|              0|          0.4|         1|                 N|         170|         170|           1|        4.4|  3.5|    0.5|      2.35|         0.0|                  1.0|       11.75|                 2.5|        0.0|               0.0|       170|Manhattan|         Murray Hill| Yellow Zone|\n",
            "|       1| 2025-01-01 00:39:27|  2025-01-01 00:51:51|              0|          1.6|         1|                 N|         234|         148|           1|       12.1|  3.5|    0.5|       2.0|         0.0|                  1.0|        19.1|                 2.5|        0.0|               0.0|       234|Manhattan|            Union Sq| Yellow Zone|\n",
            "|       1| 2025-01-01 00:53:43|  2025-01-01 01:13:23|              0|          2.8|         1|                 N|         148|         170|           1|       19.1|  3.5|    0.5|       3.0|         0.0|                  1.0|        27.1|                 2.5|        0.0|               0.0|       148|Manhattan|     Lower East Side| Yellow Zone|\n",
            "|       2| 2025-01-01 00:00:02|  2025-01-01 00:09:36|              1|         1.71|         1|                 N|         237|         262|           2|       11.4|  1.0|    0.5|       0.0|         0.0|                  1.0|        16.4|                 2.5|        0.0|               0.0|       237|Manhattan|Upper East Side S...| Yellow Zone|\n",
            "|       2| 2025-01-01 00:20:28|  2025-01-01 00:28:04|              1|         2.29|         1|                 N|         237|          75|           2|       11.4|  1.0|    0.5|       0.0|         0.0|                  1.0|        16.4|                 2.5|        0.0|               0.0|       237|Manhattan|Upper East Side S...| Yellow Zone|\n",
            "|       2| 2025-01-01 00:33:58|  2025-01-01 00:37:23|              1|         0.56|         1|                 N|         263|         236|           1|        5.8|  1.0|    0.5|      2.16|         0.0|                  1.0|       12.96|                 2.5|        0.0|               0.0|       263|Manhattan|      Yorkville West| Yellow Zone|\n",
            "|       2| 2025-01-01 00:42:40|  2025-01-01 00:55:38|              3|         1.99|         1|                 N|         236|         151|           2|       14.2|  1.0|    0.5|       0.0|         0.0|                  1.0|        19.2|                 2.5|        0.0|               0.0|       236|Manhattan|Upper East Side N...| Yellow Zone|\n",
            "|       1| 2025-01-01 00:30:07|  2025-01-01 00:36:48|              1|          1.1|         1|                 N|         229|         141|           2|        7.9|  3.5|    0.5|       0.0|         0.0|                  1.0|        12.9|                 2.5|        0.0|               0.0|       229|Manhattan|Sutton Place/Turt...| Yellow Zone|\n",
            "|       1| 2025-01-01 00:39:55|  2025-01-01 01:13:59|              1|          3.2|         1|                 N|         141|         113|           1|       26.1|  3.5|    0.5|       7.8|         0.0|                  1.0|        38.9|                 2.5|        0.0|               0.0|       141|Manhattan|     Lenox Hill West| Yellow Zone|\n",
            "|       1| 2025-01-01 00:16:54|  2025-01-01 00:35:12|              3|          2.5|         1|                 N|         158|         170|           2|       17.7|  3.5|    0.5|       0.0|         0.0|                  1.0|        22.7|                 2.5|        0.0|               0.0|       158|Manhattan|Meatpacking/West ...| Yellow Zone|\n",
            "|       1| 2025-01-01 00:43:10|  2025-01-01 01:00:03|              1|          1.9|         1|                 N|         164|         229|           1|       16.3|  3.5|    0.5|      4.25|         0.0|                  1.0|       25.55|                 2.5|        0.0|               0.0|       164|Manhattan|       Midtown South| Yellow Zone|\n",
            "|       2| 2025-01-01 00:01:41|  2025-01-01 00:07:14|              1|         0.71|         1|                 N|          79|         107|           2|       -7.2| -1.0|   -0.5|      3.66|         0.0|                 -1.0|       -8.54|                -2.5|        0.0|               0.0|        79|Manhattan|        East Village| Yellow Zone|\n",
            "|       2| 2025-01-01 00:01:41|  2025-01-01 00:07:14|              1|         0.71|         1|                 N|          79|         107|           2|        7.2|  1.0|    0.5|       0.0|         0.0|                  1.0|        12.2|                 2.5|        0.0|               0.0|        79|Manhattan|        East Village| Yellow Zone|\n",
            "|       1| 2025-01-01 00:33:12|  2025-01-01 00:50:14|              2|          1.2|         1|                 N|         246|          90|           1|       15.6|  3.5|    0.5|       0.0|         0.0|                  1.0|        20.6|                 2.5|        0.0|               0.0|       246|Manhattan|West Chelsea/Huds...| Yellow Zone|\n",
            "+--------+--------------------+---------------------+---------------+-------------+----------+------------------+------------+------------+------------+-----------+-----+-------+----------+------------+---------------------+------------+--------------------+-----------+------------------+----------+---------+--------------------+------------+\n",
            "only showing top 20 rows\n",
            "\n"
          ]
        }
      ]
    },
    {
      "cell_type": "markdown",
      "source": [
        "# Aggregating"
      ],
      "metadata": {
        "id": "GJ0EkcVL0E4j"
      }
    },
    {
      "cell_type": "code",
      "source": [
        "# Calculate how often each payment type is used\n",
        "df.groupBy('payment_type').count().sort('payment_type').show()"
      ],
      "metadata": {
        "id": "oEyCuzCM0Gbj",
        "colab": {
          "base_uri": "https://localhost:8080/"
        },
        "outputId": "35b0edb9-640b-428b-efbe-415f66c96118"
      },
      "execution_count": 52,
      "outputs": [
        {
          "output_type": "stream",
          "name": "stdout",
          "text": [
            "+------------+-------+\n",
            "|payment_type|  count|\n",
            "+------------+-------+\n",
            "|           0| 540149|\n",
            "|           1|2444393|\n",
            "|           2| 390429|\n",
            "|           3|  23773|\n",
            "|           4|  76481|\n",
            "|           5|      1|\n",
            "+------------+-------+\n",
            "\n"
          ]
        }
      ]
    },
    {
      "cell_type": "markdown",
      "source": [
        "# Data dictionary for taxi lookup\n",
        "* 0 = Flex Fare trip\n",
        "* 1 = Credit card payment\n",
        "* 2 = Cash payment\n",
        "* 3 = No charge\n",
        "* 4 = Dispute\n",
        "* 5 = Unknown\n",
        "* 6 = Voided trip"
      ],
      "metadata": {
        "id": "aJLrxvEW0U61"
      }
    },
    {
      "cell_type": "code",
      "source": [
        "# Get the average amount for each payment type\n",
        "df.groupBy('payment_type').avg('total_amount').show()"
      ],
      "metadata": {
        "id": "AQdHEoNg0T1P",
        "colab": {
          "base_uri": "https://localhost:8080/"
        },
        "outputId": "6ec006ee-3cdb-40db-f6af-ca7ed46344ef"
      },
      "execution_count": 53,
      "outputs": [
        {
          "output_type": "stream",
          "name": "stdout",
          "text": [
            "+------------+------------------+\n",
            "|payment_type| avg(total_amount)|\n",
            "+------------+------------------+\n",
            "|           5|               0.0|\n",
            "|           1|28.079206040112336|\n",
            "|           3| 6.145837294409612|\n",
            "|           2| 21.74035097290552|\n",
            "|           4|11.573446869157074|\n",
            "|           0|20.085374294870405|\n",
            "+------------+------------------+\n",
            "\n"
          ]
        }
      ]
    },
    {
      "cell_type": "code",
      "source": [
        "# Alternative syntax for aggregates\n",
        "from pyspark.sql.functions import avg\n",
        "df.groupBy('payment_type').agg(avg('total_amount')).show()"
      ],
      "metadata": {
        "id": "QjO06vfb3gRT",
        "colab": {
          "base_uri": "https://localhost:8080/"
        },
        "outputId": "a4b94fb8-657c-49cd-b9a6-123521e4f55c"
      },
      "execution_count": 54,
      "outputs": [
        {
          "output_type": "stream",
          "name": "stdout",
          "text": [
            "+------------+------------------+\n",
            "|payment_type| avg(total_amount)|\n",
            "+------------+------------------+\n",
            "|           5|               0.0|\n",
            "|           1|28.079206040112336|\n",
            "|           3| 6.145837294409612|\n",
            "|           2| 21.74035097290552|\n",
            "|           4|11.573446869157074|\n",
            "|           0|20.085374294870405|\n",
            "+------------+------------------+\n",
            "\n"
          ]
        }
      ]
    },
    {
      "cell_type": "code",
      "source": [
        "# Rename the aggregate column\n",
        "df.groupBy('payment_type').agg(avg('total_amount').alias('avg_amount')).show()"
      ],
      "metadata": {
        "id": "ITp6QYF33ovR",
        "colab": {
          "base_uri": "https://localhost:8080/"
        },
        "outputId": "18428c6f-cea0-4b5d-83c2-10852f7c33fb"
      },
      "execution_count": 55,
      "outputs": [
        {
          "output_type": "stream",
          "name": "stdout",
          "text": [
            "+------------+------------------+\n",
            "|payment_type|        avg_amount|\n",
            "+------------+------------------+\n",
            "|           5|               0.0|\n",
            "|           1|28.079206040112336|\n",
            "|           3| 6.145837294409612|\n",
            "|           2| 21.74035097290552|\n",
            "|           4|11.573446869157074|\n",
            "|           0|20.085374294870405|\n",
            "+------------+------------------+\n",
            "\n"
          ]
        }
      ]
    },
    {
      "cell_type": "markdown",
      "source": [
        "# Writing dataframes to files"
      ],
      "metadata": {
        "id": "3Qd7uzGG3wnk"
      }
    },
    {
      "cell_type": "code",
      "source": [
        "# Create new dataframe from aggregate\n",
        "avg_fare = df.groupBy('payment_type').agg(avg('total_amount')).sort('payment_type')"
      ],
      "metadata": {
        "id": "61BzmqxZ3xi7"
      },
      "execution_count": 56,
      "outputs": []
    },
    {
      "cell_type": "code",
      "source": [
        "# Write dataframe to file\n",
        "avg_fare.write.csv('/content/drive/MyDrive/pyspark_training/avg_fare', header=True, mode='overwrite')"
      ],
      "metadata": {
        "id": "-u_9CtvY33i4"
      },
      "execution_count": 57,
      "outputs": []
    },
    {
      "cell_type": "markdown",
      "source": [
        "# Challenge solution: Essential PySpark data manipulation"
      ],
      "metadata": {
        "id": "PLNNG4sx3-em"
      }
    },
    {
      "cell_type": "code",
      "source": [
        "# Step 1: Read in data files\n",
        "df_jan_2025 = spark.read.parquet('/content/drive/MyDrive/pyspark_training/yellow_tripdata_2025-01.parquet')\n",
        "df_feb_2025 = spark.read.parquet('/content/drive/MyDrive/pyspark_training/yellow_tripdata_2025-02.parquet')"
      ],
      "metadata": {
        "id": "F9yhakQV38mz"
      },
      "execution_count": 58,
      "outputs": []
    },
    {
      "cell_type": "code",
      "source": [
        "# Step 2: Union dataframes\n",
        "df_2025_combined = df_jan_2025.union(df_feb_2025)"
      ],
      "metadata": {
        "id": "IbIZgyKa4I43"
      },
      "execution_count": 59,
      "outputs": []
    },
    {
      "cell_type": "code",
      "source": [
        "# Step 3: Select and rename columns\n",
        "df_2025_combined = df_2025_combined.\\\n",
        "select('tpep_pickup_datetime', 'tpep_dropoff_datetime',\\\n",
        "       'PULocationID', 'DOLocationID', 'passenger_count',\\\n",
        "       'fare_amount', 'Airport_fee', 'total_amount', 'payment_type').\\\n",
        "withColumnsRenamed({\n",
        "    'tpep_pickup_datetime': 'pu_datetime',\\\n",
        "    'tpep_dropoff_datetime': 'do_datetime',\\\n",
        "    'PULocationID': 'pu_location_id',\\\n",
        "    'DOLocationID': 'do_location_id',\\\n",
        "    'Airport_fee' : 'airport_fee'})\n"
      ],
      "metadata": {
        "id": "tnMuBIPJ4Lsv"
      },
      "execution_count": 60,
      "outputs": []
    },
    {
      "cell_type": "code",
      "source": [
        "# Step 4: Create a new dataframe with the zone lookup table:\n",
        "taxi_zones = spark.read.option('header', 'true')\\\n",
        "  .csv('/content/drive/MyDrive/pyspark_training/taxi_zone_lookup.csv')"
      ],
      "metadata": {
        "id": "XuvmJPRG4fGC"
      },
      "execution_count": 61,
      "outputs": []
    },
    {
      "cell_type": "code",
      "source": [
        "#Step 5: Join the dataframes on the location IDs to get the dropoff boro:\n",
        "df_2025_combined = df_2025_combined.join(taxi_zones, df_2025_combined.do_location_id == taxi_zones.LocationID, 'left')"
      ],
      "metadata": {
        "id": "-x_7ZusS4luf"
      },
      "execution_count": 62,
      "outputs": []
    },
    {
      "cell_type": "code",
      "source": [
        "# Step 6: Drop and rename columns:\n",
        "df_2025_combined = df_2025_combined.drop('LocationID', 'Zone', 'service_zone')\\\n",
        ".withColumnsRenamed({'Borough': 'pu_boro'})"
      ],
      "metadata": {
        "id": "Sd_DKtSb4vul"
      },
      "execution_count": 63,
      "outputs": []
    },
    {
      "cell_type": "code",
      "source": [
        "# Step 7: Show the resulting dataframe:\n",
        "df_2025_combined.show()"
      ],
      "metadata": {
        "id": "KbFx1Wdr402x",
        "outputId": "70bac6ef-5d43-4d10-cdd3-59c100e5a1c1",
        "colab": {
          "base_uri": "https://localhost:8080/"
        }
      },
      "execution_count": 64,
      "outputs": [
        {
          "output_type": "stream",
          "name": "stdout",
          "text": [
            "+-------------------+-------------------+--------------+--------------+---------------+-----------+-----------+------------+------------+---------+\n",
            "|        pu_datetime|        do_datetime|pu_location_id|do_location_id|passenger_count|fare_amount|airport_fee|total_amount|payment_type|  pu_boro|\n",
            "+-------------------+-------------------+--------------+--------------+---------------+-----------+-----------+------------+------------+---------+\n",
            "|2025-01-01 00:18:38|2025-01-01 00:26:59|           229|           237|              1|       10.0|        0.0|        18.0|           1|Manhattan|\n",
            "|2025-01-01 00:32:40|2025-01-01 00:35:13|           236|           237|              1|        5.1|        0.0|       12.12|           1|Manhattan|\n",
            "|2025-01-01 00:44:04|2025-01-01 00:46:01|           141|           141|              1|        5.1|        0.0|        12.1|           1|Manhattan|\n",
            "|2025-01-01 00:14:27|2025-01-01 00:20:01|           244|           244|              3|        7.2|        0.0|         9.7|           2|Manhattan|\n",
            "|2025-01-01 00:21:34|2025-01-01 00:25:06|           244|           116|              3|        5.8|        0.0|         8.3|           2|Manhattan|\n",
            "|2025-01-01 00:48:24|2025-01-01 01:08:26|           239|            68|              2|       19.1|        0.0|        24.1|           2|Manhattan|\n",
            "|2025-01-01 00:14:47|2025-01-01 00:16:15|           170|           170|              0|        4.4|        0.0|       11.75|           1|Manhattan|\n",
            "|2025-01-01 00:39:27|2025-01-01 00:51:51|           234|           148|              0|       12.1|        0.0|        19.1|           1|Manhattan|\n",
            "|2025-01-01 00:53:43|2025-01-01 01:13:23|           148|           170|              0|       19.1|        0.0|        27.1|           1|Manhattan|\n",
            "|2025-01-01 00:00:02|2025-01-01 00:09:36|           237|           262|              1|       11.4|        0.0|        16.4|           2|Manhattan|\n",
            "|2025-01-01 00:20:28|2025-01-01 00:28:04|           237|            75|              1|       11.4|        0.0|        16.4|           2|Manhattan|\n",
            "|2025-01-01 00:33:58|2025-01-01 00:37:23|           263|           236|              1|        5.8|        0.0|       12.96|           1|Manhattan|\n",
            "|2025-01-01 00:42:40|2025-01-01 00:55:38|           236|           151|              3|       14.2|        0.0|        19.2|           2|Manhattan|\n",
            "|2025-01-01 00:30:07|2025-01-01 00:36:48|           229|           141|              1|        7.9|        0.0|        12.9|           2|Manhattan|\n",
            "|2025-01-01 00:39:55|2025-01-01 01:13:59|           141|           113|              1|       26.1|        0.0|        38.9|           1|Manhattan|\n",
            "|2025-01-01 00:16:54|2025-01-01 00:35:12|           158|           170|              3|       17.7|        0.0|        22.7|           2|Manhattan|\n",
            "|2025-01-01 00:43:10|2025-01-01 01:00:03|           164|           229|              1|       16.3|        0.0|       25.55|           1|Manhattan|\n",
            "|2025-01-01 00:01:41|2025-01-01 00:07:14|            79|           107|              1|       -7.2|        0.0|       -8.54|           2|Manhattan|\n",
            "|2025-01-01 00:01:41|2025-01-01 00:07:14|            79|           107|              1|        7.2|        0.0|        12.2|           2|Manhattan|\n",
            "|2025-01-01 00:33:12|2025-01-01 00:50:14|           246|            90|              2|       15.6|        0.0|        20.6|           1|Manhattan|\n",
            "+-------------------+-------------------+--------------+--------------+---------------+-----------+-----------+------------+------------+---------+\n",
            "only showing top 20 rows\n",
            "\n"
          ]
        }
      ]
    },
    {
      "cell_type": "markdown",
      "source": [
        "# PySpark SQL"
      ],
      "metadata": {
        "id": "uYhVHk6FHv4b"
      }
    },
    {
      "cell_type": "code",
      "source": [
        "# Read in the taxi file\n",
        "taxi = spark.read.parquet('/content/drive/MyDrive/pyspark_training/yellow_tripdata_2025-01.parquet')"
      ],
      "metadata": {
        "id": "7GouwJzZHxrD"
      },
      "execution_count": 66,
      "outputs": []
    },
    {
      "cell_type": "code",
      "source": [
        "# Create a temporary view\n",
        "taxi.createOrReplaceTempView('taxi')"
      ],
      "metadata": {
        "id": "No6lOKx5H4Bf"
      },
      "execution_count": 67,
      "outputs": []
    },
    {
      "cell_type": "code",
      "source": [
        "# Select rows where the total_amount is greater than 50\n",
        "spark.sql('SELECT * FROM taxi WHERE total_amount > 50').show()"
      ],
      "metadata": {
        "colab": {
          "base_uri": "https://localhost:8080/"
        },
        "id": "hfir6OK5H7H6",
        "outputId": "1bea9291-77ae-48de-9213-74e09d50afdd"
      },
      "execution_count": 68,
      "outputs": [
        {
          "output_type": "stream",
          "name": "stdout",
          "text": [
            "+--------+--------------------+---------------------+---------------+-------------+----------+------------------+------------+------------+------------+-----------+-----+-------+----------+------------+---------------------+------------+--------------------+-----------+------------------+\n",
            "|VendorID|tpep_pickup_datetime|tpep_dropoff_datetime|passenger_count|trip_distance|RatecodeID|store_and_fwd_flag|PULocationID|DOLocationID|payment_type|fare_amount|extra|mta_tax|tip_amount|tolls_amount|improvement_surcharge|total_amount|congestion_surcharge|Airport_fee|cbd_congestion_fee|\n",
            "+--------+--------------------+---------------------+---------------+-------------+----------+------------------+------------+------------+------------+-----------+-----+-------+----------+------------+---------------------+------------+--------------------+-----------+------------------+\n",
            "|       2| 2025-01-01 00:15:41|  2025-01-01 01:03:03|              4|         3.05|         1|                 N|         114|         161|           1|       37.3|  1.0|    0.5|      8.46|         0.0|                  1.0|       50.76|                 2.5|        0.0|               0.0|\n",
            "|       2| 2025-01-01 00:34:23|  2025-01-01 01:20:57|              1|        10.42|         1|                 N|          90|         243|           1|       56.9|  1.0|    0.5|     12.38|         0.0|                  1.0|       74.28|                 2.5|        0.0|               0.0|\n",
            "|       2| 2025-01-01 00:55:44|  2025-01-01 01:27:41|              1|        14.84|         1|                 N|         132|          89|           1|       59.0|  1.0|    0.5|      12.3|         0.0|                  1.0|       75.55|                 0.0|       1.75|               0.0|\n",
            "|       2| 2025-01-01 00:04:29|  2025-01-01 00:55:58|              9|        31.97|         5|                 N|         132|         265|           2|       90.0|  0.0|    0.0|       0.0|       20.32|                  1.0|      111.32|                 0.0|        0.0|               0.0|\n",
            "|       1| 2025-01-01 00:44:59|  2025-01-01 01:23:14|              1|         10.9|         1|                 N|         261|          42|           1|       47.1|  3.5|    0.5|       5.0|         0.0|                  1.0|        57.1|                 2.5|        0.0|               0.0|\n",
            "|       2| 2025-01-01 00:11:59|  2025-01-01 00:48:37|              2|         9.17|         1|                 N|         138|         186|           1|       48.5|  6.0|    0.5|     13.09|        6.94|                  1.0|       80.28|                 2.5|       1.75|               0.0|\n",
            "|       2| 2025-01-01 00:39:59|  2025-01-01 01:00:37|              1|         7.78|         1|                 N|         138|          36|           1|       33.8|  6.0|    0.5|      8.26|         0.0|                  1.0|       51.31|                 0.0|       1.75|               0.0|\n",
            "|       2| 2025-01-01 00:48:53|  2025-01-01 01:13:31|              1|        11.81|         5|                 N|          68|         265|           1|       80.0|  0.0|    0.0|       0.0|       21.38|                  1.0|      102.38|                 0.0|        0.0|               0.0|\n",
            "|       2| 2025-01-01 00:32:29|  2025-01-01 01:09:35|              1|         9.79|         1|                 N|         239|          33|           1|       44.3|  1.0|    0.5|     12.32|         0.0|                  1.0|       61.62|                 2.5|        0.0|               0.0|\n",
            "|       1| 2025-01-01 00:00:00|  2025-01-01 01:03:09|              1|          6.4|         1|                 Y|         211|         164|           1|       52.0|  3.5|    0.5|     17.05|         0.0|                  1.0|       74.05|                 2.5|        0.0|               0.0|\n",
            "|       2| 2025-01-01 00:24:04|  2025-01-01 01:09:28|              3|         5.55|         1|                 N|         238|         113|           1|       40.1|  1.0|    0.5|     11.28|         0.0|                  1.0|       56.38|                 2.5|        0.0|               0.0|\n",
            "|       2| 2025-01-01 00:17:24|  2025-01-01 00:56:58|              1|         4.83|         1|                 N|          48|         261|           1|       37.3|  1.0|    0.5|      8.46|         0.0|                  1.0|       50.76|                 2.5|        0.0|               0.0|\n",
            "|       1| 2025-01-01 00:38:06|  2025-01-01 01:07:49|              4|          9.4|         1|                 N|          33|         149|           1|       40.8|  1.0|    0.5|      15.0|         0.0|                  1.0|        58.3|                 0.0|        0.0|               0.0|\n",
            "|       1| 2025-01-01 00:03:00|  2025-01-01 00:25:10|              2|         10.4|         1|                 N|         138|         162|           1|       40.8|10.25|    0.5|       0.0|        6.94|                  1.0|       59.49|                 2.5|       1.75|               0.0|\n",
            "|       2| 2025-01-01 00:07:59|  2025-01-01 00:36:49|              1|        15.18|         1|                 N|         161|         200|           1|       59.7|  1.0|    0.5|     12.94|         0.0|                  1.0|       77.64|                 2.5|        0.0|               0.0|\n",
            "|       2| 2025-01-01 00:52:40|  2025-01-01 01:21:14|              1|        18.57|         1|                 N|          93|          29|           1|       68.8|  1.0|    0.5|      12.0|         0.0|                  1.0|        83.3|                 0.0|        0.0|               0.0|\n",
            "|       1| 2025-01-01 00:26:47|  2025-01-01 01:10:36|              1|         14.8|        99|                 N|          41|         122|           1|       47.5|  0.0|    0.5|       0.0|        6.94|                  1.0|       55.94|                 0.0|        0.0|               0.0|\n",
            "|       1| 2025-01-01 00:23:05|  2025-01-01 00:56:38|              1|         22.0|         1|                 N|         132|         241|           2|       80.7| 2.75|    0.5|       0.0|        6.94|                  1.0|       91.89|                 0.0|       1.75|               0.0|\n",
            "|       2| 2025-01-01 00:26:09|  2025-01-01 00:51:09|              1|         5.69|         5|                 N|         186|         265|           1|       60.0|  0.0|    0.0|     14.88|       13.38|                  1.0|       89.26|                 0.0|        0.0|               0.0|\n",
            "|       2| 2025-01-01 00:16:32|  2025-01-01 00:47:36|              2|        16.43|         2|                 N|         170|         219|           1|       70.0|  0.0|    0.5|      10.0|        6.94|                  1.0|       90.94|                 2.5|        0.0|               0.0|\n",
            "+--------+--------------------+---------------------+---------------+-------------+----------+------------------+------------+------------+------------+-----------+-----+-------+----------+------------+---------------------+------------+--------------------+-----------+------------------+\n",
            "only showing top 20 rows\n",
            "\n"
          ]
        }
      ]
    },
    {
      "cell_type": "code",
      "source": [
        "# Chain a SQL query with a filter and select and display the result\n",
        "spark.sql('SELECT * FROM taxi WHERE total_amount > 50')\\\n",
        "  .filter('passenger_count > 2')\\\n",
        "  .select('payment_type', 'passenger_count',  'total_amount')\\\n",
        "  .show()"
      ],
      "metadata": {
        "colab": {
          "base_uri": "https://localhost:8080/"
        },
        "id": "poNsOtZMIC94",
        "outputId": "27d21161-4cbf-4b1b-c047-153d49e24064"
      },
      "execution_count": 69,
      "outputs": [
        {
          "output_type": "stream",
          "name": "stdout",
          "text": [
            "+------------+---------------+------------+\n",
            "|payment_type|passenger_count|total_amount|\n",
            "+------------+---------------+------------+\n",
            "|           1|              4|       50.76|\n",
            "|           2|              9|      111.32|\n",
            "|           1|              3|       56.38|\n",
            "|           1|              4|        58.3|\n",
            "|           1|              3|       51.55|\n",
            "|           1|              4|       91.19|\n",
            "|           2|              3|        59.1|\n",
            "|           1|              4|       61.27|\n",
            "|           3|              4|      123.44|\n",
            "|           1|              3|       59.09|\n",
            "|           2|              3|       192.4|\n",
            "|           1|              4|       62.52|\n",
            "|           1|              3|      151.35|\n",
            "|           1|              3|       88.92|\n",
            "|           1|              4|       100.0|\n",
            "|           1|              4|      115.05|\n",
            "|           2|              4|       80.94|\n",
            "|           1|              3|        58.1|\n",
            "|           1|              3|       62.49|\n",
            "|           1|              3|       71.24|\n",
            "+------------+---------------+------------+\n",
            "only showing top 20 rows\n",
            "\n"
          ]
        }
      ]
    },
    {
      "cell_type": "code",
      "source": [
        "# Write a query as triple-quoted text string\n",
        "query = '''\n",
        "SELECT\n",
        "\tpayment_type,\n",
        "\tpassenger_count,\n",
        "\ttotal_amount\n",
        "FROM taxi\n",
        "WHERE\n",
        "\ttotal_amount > 50\n",
        "\tAND\n",
        "\tpassenger_count > 2\n",
        "'''"
      ],
      "metadata": {
        "id": "2pLxAPL_ILVe"
      },
      "execution_count": 72,
      "outputs": []
    },
    {
      "cell_type": "code",
      "source": [
        "# Execute the query and display results\n",
        "spark.sql(query).show()"
      ],
      "metadata": {
        "colab": {
          "base_uri": "https://localhost:8080/"
        },
        "id": "D7VFZIhVIQ1q",
        "outputId": "77b9e21d-c706-454a-e784-9fd66d5a4ba3"
      },
      "execution_count": 73,
      "outputs": [
        {
          "output_type": "stream",
          "name": "stdout",
          "text": [
            "+------------+---------------+------------+\n",
            "|payment_type|passenger_count|total_amount|\n",
            "+------------+---------------+------------+\n",
            "|           1|              4|       50.76|\n",
            "|           2|              9|      111.32|\n",
            "|           1|              3|       56.38|\n",
            "|           1|              4|        58.3|\n",
            "|           1|              3|       51.55|\n",
            "|           1|              4|       91.19|\n",
            "|           2|              3|        59.1|\n",
            "|           1|              4|       61.27|\n",
            "|           3|              4|      123.44|\n",
            "|           1|              3|       59.09|\n",
            "|           2|              3|       192.4|\n",
            "|           1|              4|       62.52|\n",
            "|           1|              3|      151.35|\n",
            "|           1|              3|       88.92|\n",
            "|           1|              4|       100.0|\n",
            "|           1|              4|      115.05|\n",
            "|           2|              4|       80.94|\n",
            "|           1|              3|        58.1|\n",
            "|           1|              3|       62.49|\n",
            "|           1|              3|       71.24|\n",
            "+------------+---------------+------------+\n",
            "only showing top 20 rows\n",
            "\n"
          ]
        }
      ]
    },
    {
      "cell_type": "markdown",
      "source": [
        "# Challenge solution: PySpark SQL"
      ],
      "metadata": {
        "id": "0nvOhgYuIWUm"
      }
    },
    {
      "cell_type": "code",
      "source": [
        "# Step 1: Load the taxi ride data and create a temporary view:\n",
        "\n",
        "taxi_jan2025 = spark.read.parquet('/content/drive/MyDrive/pyspark_training/yellow_tripdata_2025-01.parquet')\n",
        "taxi_jan2025.createOrReplaceTempView('taxi_jan2025')"
      ],
      "metadata": {
        "id": "Ch5L0moPIX5G"
      },
      "execution_count": 74,
      "outputs": []
    },
    {
      "cell_type": "code",
      "source": [
        "# Step 2: Load the lookup data and create a temporary view:\n",
        "\n",
        "taxi_lookup = spark.read.option('header', 'true').csv('/content/drive/MyDrive/pyspark_training/taxi_zone_lookup.csv')\n",
        "taxi_lookup.createOrReplaceTempView('taxi_lookup')"
      ],
      "metadata": {
        "id": "PHtzsg_RIaD_"
      },
      "execution_count": 75,
      "outputs": []
    },
    {
      "cell_type": "code",
      "source": [
        "# Step 3: Join the two tables using SQL and assign the result to a dataframe called joined_df:\n",
        "\n",
        "query = '''\n",
        "SELECT\n",
        "  DOLocationID,\n",
        "  Borough,\n",
        "  total_amount\n",
        "FROM taxi_jan2025\n",
        "LEFT JOIN taxi_lookup\n",
        "  ON DOLocationID = LocationID\n",
        "'''\n",
        "\n",
        "joined_df = spark.sql(query)"
      ],
      "metadata": {
        "id": "ebv957zIIcx_"
      },
      "execution_count": 76,
      "outputs": []
    },
    {
      "cell_type": "code",
      "source": [
        "# Step 4: Group the dataframe by Borough, calculate the average total fare amount,\n",
        "# alias the average amount column, and display the result:\n",
        "\n",
        "joined_df.groupBy('Borough').agg(avg('total_amount').alias('avg_amount')).show()"
      ],
      "metadata": {
        "colab": {
          "base_uri": "https://localhost:8080/"
        },
        "id": "zEtob49hIe3D",
        "outputId": "8bec89ed-f8d4-4c51-adbb-c5b190941cf8"
      },
      "execution_count": 77,
      "outputs": [
        {
          "output_type": "stream",
          "name": "stdout",
          "text": [
            "+-------------+------------------+\n",
            "|      Borough|        avg_amount|\n",
            "+-------------+------------------+\n",
            "|       Queens| 51.61163036538719|\n",
            "|          EWR|123.16705659828357|\n",
            "|      Unknown|25.926336005344027|\n",
            "|     Brooklyn| 42.40119152829651|\n",
            "|Staten Island| 88.12902995720401|\n",
            "|          N/A|107.62149760052951|\n",
            "|    Manhattan|22.818652849443495|\n",
            "|        Bronx| 42.89454769447338|\n",
            "+-------------+------------------+\n",
            "\n"
          ]
        }
      ]
    },
    {
      "cell_type": "markdown",
      "source": [
        "**End of the notebook, congratulations :)**"
      ],
      "metadata": {
        "id": "kgDjJovmIhhq"
      }
    }
  ]
}